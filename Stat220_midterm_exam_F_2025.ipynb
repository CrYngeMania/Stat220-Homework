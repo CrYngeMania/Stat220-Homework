{
  "cells": [
    {
      "cell_type": "markdown",
      "metadata": {
        "id": "view-in-github",
        "colab_type": "text"
      },
      "source": [
        "<a href=\"https://colab.research.google.com/github/CrYngeMania/Stat220-Homework/blob/main/Stat220_midterm_exam_F_2025.ipynb\" target=\"_parent\"><img src=\"https://colab.research.google.com/assets/colab-badge.svg\" alt=\"Open In Colab\"/></a>"
      ]
    },
    {
      "cell_type": "markdown",
      "id": "a9fe2122",
      "metadata": {
        "id": "a9fe2122"
      },
      "source": [
        "\n",
        "# Stat 250 Midterm Exam Fall 2025\n",
        "\n",
        "**Instructions:** Answer each question in the provided code/markdown cells. Show your work. Use the dataset `support_team_data.csv` and the provided geometric sample where indicated.\n",
        "\n",
        "**Scenario:** You are a data analyst studying **support team incidents**. You will model discrete incident timing (geometric), explore continuous waiting times, estimate model parameters, compare Exponential vs Normal fits, and build predictive models (linear regression and a regression tree).\n"
      ]
    },
    {
      "cell_type": "code",
      "execution_count": 33,
      "id": "f45588cf",
      "metadata": {
        "colab": {
          "base_uri": "https://localhost:8080/",
          "height": 206
        },
        "id": "f45588cf",
        "outputId": "a628afd1-d473-4a93-ed50-b6f204d68cae"
      },
      "outputs": [
        {
          "output_type": "execute_result",
          "data": {
            "text/plain": [
              "   wait_time  open_tickets  agent_experience\n",
              "0          3             7                18\n",
              "1         14            12                47\n",
              "2          6            13                53\n",
              "3          5             8                24\n",
              "4          1            15                26"
            ],
            "text/html": [
              "\n",
              "  <div id=\"df-0c4a4b6a-7ba5-4c24-81eb-45e14c0a2a70\" class=\"colab-df-container\">\n",
              "    <div>\n",
              "<style scoped>\n",
              "    .dataframe tbody tr th:only-of-type {\n",
              "        vertical-align: middle;\n",
              "    }\n",
              "\n",
              "    .dataframe tbody tr th {\n",
              "        vertical-align: top;\n",
              "    }\n",
              "\n",
              "    .dataframe thead th {\n",
              "        text-align: right;\n",
              "    }\n",
              "</style>\n",
              "<table border=\"1\" class=\"dataframe\">\n",
              "  <thead>\n",
              "    <tr style=\"text-align: right;\">\n",
              "      <th></th>\n",
              "      <th>wait_time</th>\n",
              "      <th>open_tickets</th>\n",
              "      <th>agent_experience</th>\n",
              "    </tr>\n",
              "  </thead>\n",
              "  <tbody>\n",
              "    <tr>\n",
              "      <th>0</th>\n",
              "      <td>3</td>\n",
              "      <td>7</td>\n",
              "      <td>18</td>\n",
              "    </tr>\n",
              "    <tr>\n",
              "      <th>1</th>\n",
              "      <td>14</td>\n",
              "      <td>12</td>\n",
              "      <td>47</td>\n",
              "    </tr>\n",
              "    <tr>\n",
              "      <th>2</th>\n",
              "      <td>6</td>\n",
              "      <td>13</td>\n",
              "      <td>53</td>\n",
              "    </tr>\n",
              "    <tr>\n",
              "      <th>3</th>\n",
              "      <td>5</td>\n",
              "      <td>8</td>\n",
              "      <td>24</td>\n",
              "    </tr>\n",
              "    <tr>\n",
              "      <th>4</th>\n",
              "      <td>1</td>\n",
              "      <td>15</td>\n",
              "      <td>26</td>\n",
              "    </tr>\n",
              "  </tbody>\n",
              "</table>\n",
              "</div>\n",
              "    <div class=\"colab-df-buttons\">\n",
              "\n",
              "  <div class=\"colab-df-container\">\n",
              "    <button class=\"colab-df-convert\" onclick=\"convertToInteractive('df-0c4a4b6a-7ba5-4c24-81eb-45e14c0a2a70')\"\n",
              "            title=\"Convert this dataframe to an interactive table.\"\n",
              "            style=\"display:none;\">\n",
              "\n",
              "  <svg xmlns=\"http://www.w3.org/2000/svg\" height=\"24px\" viewBox=\"0 -960 960 960\">\n",
              "    <path d=\"M120-120v-720h720v720H120Zm60-500h600v-160H180v160Zm220 220h160v-160H400v160Zm0 220h160v-160H400v160ZM180-400h160v-160H180v160Zm440 0h160v-160H620v160ZM180-180h160v-160H180v160Zm440 0h160v-160H620v160Z\"/>\n",
              "  </svg>\n",
              "    </button>\n",
              "\n",
              "  <style>\n",
              "    .colab-df-container {\n",
              "      display:flex;\n",
              "      gap: 12px;\n",
              "    }\n",
              "\n",
              "    .colab-df-convert {\n",
              "      background-color: #E8F0FE;\n",
              "      border: none;\n",
              "      border-radius: 50%;\n",
              "      cursor: pointer;\n",
              "      display: none;\n",
              "      fill: #1967D2;\n",
              "      height: 32px;\n",
              "      padding: 0 0 0 0;\n",
              "      width: 32px;\n",
              "    }\n",
              "\n",
              "    .colab-df-convert:hover {\n",
              "      background-color: #E2EBFA;\n",
              "      box-shadow: 0px 1px 2px rgba(60, 64, 67, 0.3), 0px 1px 3px 1px rgba(60, 64, 67, 0.15);\n",
              "      fill: #174EA6;\n",
              "    }\n",
              "\n",
              "    .colab-df-buttons div {\n",
              "      margin-bottom: 4px;\n",
              "    }\n",
              "\n",
              "    [theme=dark] .colab-df-convert {\n",
              "      background-color: #3B4455;\n",
              "      fill: #D2E3FC;\n",
              "    }\n",
              "\n",
              "    [theme=dark] .colab-df-convert:hover {\n",
              "      background-color: #434B5C;\n",
              "      box-shadow: 0px 1px 3px 1px rgba(0, 0, 0, 0.15);\n",
              "      filter: drop-shadow(0px 1px 2px rgba(0, 0, 0, 0.3));\n",
              "      fill: #FFFFFF;\n",
              "    }\n",
              "  </style>\n",
              "\n",
              "    <script>\n",
              "      const buttonEl =\n",
              "        document.querySelector('#df-0c4a4b6a-7ba5-4c24-81eb-45e14c0a2a70 button.colab-df-convert');\n",
              "      buttonEl.style.display =\n",
              "        google.colab.kernel.accessAllowed ? 'block' : 'none';\n",
              "\n",
              "      async function convertToInteractive(key) {\n",
              "        const element = document.querySelector('#df-0c4a4b6a-7ba5-4c24-81eb-45e14c0a2a70');\n",
              "        const dataTable =\n",
              "          await google.colab.kernel.invokeFunction('convertToInteractive',\n",
              "                                                    [key], {});\n",
              "        if (!dataTable) return;\n",
              "\n",
              "        const docLinkHtml = 'Like what you see? Visit the ' +\n",
              "          '<a target=\"_blank\" href=https://colab.research.google.com/notebooks/data_table.ipynb>data table notebook</a>'\n",
              "          + ' to learn more about interactive tables.';\n",
              "        element.innerHTML = '';\n",
              "        dataTable['output_type'] = 'display_data';\n",
              "        await google.colab.output.renderOutput(dataTable, element);\n",
              "        const docLink = document.createElement('div');\n",
              "        docLink.innerHTML = docLinkHtml;\n",
              "        element.appendChild(docLink);\n",
              "      }\n",
              "    </script>\n",
              "  </div>\n",
              "\n",
              "\n",
              "    <div id=\"df-122204f0-cf16-4d40-8e2c-fb7878e2fc36\">\n",
              "      <button class=\"colab-df-quickchart\" onclick=\"quickchart('df-122204f0-cf16-4d40-8e2c-fb7878e2fc36')\"\n",
              "                title=\"Suggest charts\"\n",
              "                style=\"display:none;\">\n",
              "\n",
              "<svg xmlns=\"http://www.w3.org/2000/svg\" height=\"24px\"viewBox=\"0 0 24 24\"\n",
              "     width=\"24px\">\n",
              "    <g>\n",
              "        <path d=\"M19 3H5c-1.1 0-2 .9-2 2v14c0 1.1.9 2 2 2h14c1.1 0 2-.9 2-2V5c0-1.1-.9-2-2-2zM9 17H7v-7h2v7zm4 0h-2V7h2v10zm4 0h-2v-4h2v4z\"/>\n",
              "    </g>\n",
              "</svg>\n",
              "      </button>\n",
              "\n",
              "<style>\n",
              "  .colab-df-quickchart {\n",
              "      --bg-color: #E8F0FE;\n",
              "      --fill-color: #1967D2;\n",
              "      --hover-bg-color: #E2EBFA;\n",
              "      --hover-fill-color: #174EA6;\n",
              "      --disabled-fill-color: #AAA;\n",
              "      --disabled-bg-color: #DDD;\n",
              "  }\n",
              "\n",
              "  [theme=dark] .colab-df-quickchart {\n",
              "      --bg-color: #3B4455;\n",
              "      --fill-color: #D2E3FC;\n",
              "      --hover-bg-color: #434B5C;\n",
              "      --hover-fill-color: #FFFFFF;\n",
              "      --disabled-bg-color: #3B4455;\n",
              "      --disabled-fill-color: #666;\n",
              "  }\n",
              "\n",
              "  .colab-df-quickchart {\n",
              "    background-color: var(--bg-color);\n",
              "    border: none;\n",
              "    border-radius: 50%;\n",
              "    cursor: pointer;\n",
              "    display: none;\n",
              "    fill: var(--fill-color);\n",
              "    height: 32px;\n",
              "    padding: 0;\n",
              "    width: 32px;\n",
              "  }\n",
              "\n",
              "  .colab-df-quickchart:hover {\n",
              "    background-color: var(--hover-bg-color);\n",
              "    box-shadow: 0 1px 2px rgba(60, 64, 67, 0.3), 0 1px 3px 1px rgba(60, 64, 67, 0.15);\n",
              "    fill: var(--button-hover-fill-color);\n",
              "  }\n",
              "\n",
              "  .colab-df-quickchart-complete:disabled,\n",
              "  .colab-df-quickchart-complete:disabled:hover {\n",
              "    background-color: var(--disabled-bg-color);\n",
              "    fill: var(--disabled-fill-color);\n",
              "    box-shadow: none;\n",
              "  }\n",
              "\n",
              "  .colab-df-spinner {\n",
              "    border: 2px solid var(--fill-color);\n",
              "    border-color: transparent;\n",
              "    border-bottom-color: var(--fill-color);\n",
              "    animation:\n",
              "      spin 1s steps(1) infinite;\n",
              "  }\n",
              "\n",
              "  @keyframes spin {\n",
              "    0% {\n",
              "      border-color: transparent;\n",
              "      border-bottom-color: var(--fill-color);\n",
              "      border-left-color: var(--fill-color);\n",
              "    }\n",
              "    20% {\n",
              "      border-color: transparent;\n",
              "      border-left-color: var(--fill-color);\n",
              "      border-top-color: var(--fill-color);\n",
              "    }\n",
              "    30% {\n",
              "      border-color: transparent;\n",
              "      border-left-color: var(--fill-color);\n",
              "      border-top-color: var(--fill-color);\n",
              "      border-right-color: var(--fill-color);\n",
              "    }\n",
              "    40% {\n",
              "      border-color: transparent;\n",
              "      border-right-color: var(--fill-color);\n",
              "      border-top-color: var(--fill-color);\n",
              "    }\n",
              "    60% {\n",
              "      border-color: transparent;\n",
              "      border-right-color: var(--fill-color);\n",
              "    }\n",
              "    80% {\n",
              "      border-color: transparent;\n",
              "      border-right-color: var(--fill-color);\n",
              "      border-bottom-color: var(--fill-color);\n",
              "    }\n",
              "    90% {\n",
              "      border-color: transparent;\n",
              "      border-bottom-color: var(--fill-color);\n",
              "    }\n",
              "  }\n",
              "</style>\n",
              "\n",
              "      <script>\n",
              "        async function quickchart(key) {\n",
              "          const quickchartButtonEl =\n",
              "            document.querySelector('#' + key + ' button');\n",
              "          quickchartButtonEl.disabled = true;  // To prevent multiple clicks.\n",
              "          quickchartButtonEl.classList.add('colab-df-spinner');\n",
              "          try {\n",
              "            const charts = await google.colab.kernel.invokeFunction(\n",
              "                'suggestCharts', [key], {});\n",
              "          } catch (error) {\n",
              "            console.error('Error during call to suggestCharts:', error);\n",
              "          }\n",
              "          quickchartButtonEl.classList.remove('colab-df-spinner');\n",
              "          quickchartButtonEl.classList.add('colab-df-quickchart-complete');\n",
              "        }\n",
              "        (() => {\n",
              "          let quickchartButtonEl =\n",
              "            document.querySelector('#df-122204f0-cf16-4d40-8e2c-fb7878e2fc36 button');\n",
              "          quickchartButtonEl.style.display =\n",
              "            google.colab.kernel.accessAllowed ? 'block' : 'none';\n",
              "        })();\n",
              "      </script>\n",
              "    </div>\n",
              "\n",
              "    </div>\n",
              "  </div>\n"
            ],
            "application/vnd.google.colaboratory.intrinsic+json": {
              "type": "dataframe",
              "variable_name": "df",
              "summary": "{\n  \"name\": \"df\",\n  \"rows\": 40,\n  \"fields\": [\n    {\n      \"column\": \"wait_time\",\n      \"properties\": {\n        \"dtype\": \"number\",\n        \"std\": 4,\n        \"min\": 1,\n        \"max\": 16,\n        \"num_unique_values\": 12,\n        \"samples\": [\n          7,\n          4,\n          3\n        ],\n        \"semantic_type\": \"\",\n        \"description\": \"\"\n      }\n    },\n    {\n      \"column\": \"open_tickets\",\n      \"properties\": {\n        \"dtype\": \"number\",\n        \"std\": 4,\n        \"min\": 1,\n        \"max\": 15,\n        \"num_unique_values\": 14,\n        \"samples\": [\n          2,\n          10,\n          7\n        ],\n        \"semantic_type\": \"\",\n        \"description\": \"\"\n      }\n    },\n    {\n      \"column\": \"agent_experience\",\n      \"properties\": {\n        \"dtype\": \"number\",\n        \"std\": 18,\n        \"min\": 1,\n        \"max\": 60,\n        \"num_unique_values\": 27,\n        \"samples\": [\n          41,\n          9,\n          29\n        ],\n        \"semantic_type\": \"\",\n        \"description\": \"\"\n      }\n    }\n  ]\n}"
            }
          },
          "metadata": {},
          "execution_count": 33
        }
      ],
      "source": [
        "\n",
        "# Setup (you may import additional standard libraries as needed)\n",
        "import numpy as np\n",
        "import pandas as pd\n",
        "import matplotlib.pyplot as plt\n",
        "from scipy.stats import binom, geom, expon, norm\n",
        "from sklearn.linear_model import LinearRegression\n",
        "import math\n",
        "from sklearn.tree import DecisionTreeRegressor\n",
        "from sklearn import tree\n",
        "\n",
        "\n",
        "df = pd.read_csv(\"support_team_data.csv\")\n",
        "\n",
        "# Peek at the data\n",
        "df.head()\n"
      ]
    },
    {
      "cell_type": "markdown",
      "id": "84fe008a",
      "metadata": {
        "id": "84fe008a"
      },
      "source": [
        "## Problem 1\n",
        "Assume each hour is an independent trial with incident probability $p = 0.20$. Let $X$ be the number of hours until the **first** incident.\n",
        "\n",
        "**(a)** Compute $P(X=4)$.  "
      ]
    },
    {
      "cell_type": "code",
      "execution_count": 3,
      "id": "ec121b3a",
      "metadata": {
        "colab": {
          "base_uri": "https://localhost:8080/"
        },
        "id": "ec121b3a",
        "outputId": "c6d576d5-70fe-4ea7-e276-20f6559dd98f"
      },
      "outputs": [
        {
          "output_type": "stream",
          "name": "stdout",
          "text": [
            "0.10240000000000003\n"
          ]
        }
      ],
      "source": [
        "probGeo = geom.pmf(4, 0.2)\n",
        "print(probGeo)"
      ]
    },
    {
      "cell_type": "markdown",
      "id": "fab069a5",
      "metadata": {
        "id": "fab069a5"
      },
      "source": [
        "**(b)** Compute $P(X \\ge 2)$.  \n"
      ]
    },
    {
      "cell_type": "code",
      "execution_count": 4,
      "id": "645d572c",
      "metadata": {
        "colab": {
          "base_uri": "https://localhost:8080/"
        },
        "id": "645d572c",
        "outputId": "640c8f4a-4a9f-4eb0-bb0f-58bd553f1042"
      },
      "outputs": [
        {
          "output_type": "stream",
          "name": "stdout",
          "text": [
            "0.36\n"
          ]
        }
      ],
      "source": [
        "prob2 =1 - geom.cdf(2, .2)\n",
        "print(prob2)"
      ]
    },
    {
      "cell_type": "markdown",
      "id": "933f3ef1",
      "metadata": {
        "id": "933f3ef1"
      },
      "source": [
        "**(c)** State and interpret $E[X]$ and $\\mathrm{Var}(X)$ for the geometric distribution.  \n"
      ]
    },
    {
      "cell_type": "code",
      "execution_count": 5,
      "id": "1417eaab",
      "metadata": {
        "colab": {
          "base_uri": "https://localhost:8080/"
        },
        "id": "1417eaab",
        "outputId": "92b6664e-9fec-4618-d0b2-a66c6c4469ce"
      },
      "outputs": [
        {
          "output_type": "stream",
          "name": "stdout",
          "text": [
            "5.0\n",
            "24.999999999999996\n"
          ]
        }
      ],
      "source": [
        "expected = 1/.2\n",
        "variance = (1-0.2)/(.2**2)\n",
        "print(expected)\n",
        "print(variance)"
      ]
    },
    {
      "cell_type": "markdown",
      "id": "7686dfca",
      "metadata": {
        "id": "7686dfca"
      },
      "source": [
        "E[X] = 5 means that on average, we would expect to see our first incident happen after 5 hours.\n",
        "\n",
        "Var(X) = 24.99 tells us how spread out the wait times are. It gives us our std, sqrt(25) = 5 hours, meaning that in most cases, we could see a deviation of about 5 hours above or below the mean. It shows that theres more unpredictability for when the first incident occurs."
      ]
    },
    {
      "cell_type": "markdown",
      "id": "7a7592b8",
      "metadata": {
        "id": "7a7592b8"
      },
      "source": [
        "**(d)** In 1–2 sentences, justify why a geometric model is appropriate here.\n"
      ]
    },
    {
      "cell_type": "markdown",
      "id": "b36b6220",
      "metadata": {
        "id": "b36b6220"
      },
      "source": [
        "A geometric model is appropriate here bcause we are counting the number of independent trials until the first incident occurs. Each trial has the same probability of an incident, and the process stops with the first incident."
      ]
    },
    {
      "cell_type": "markdown",
      "id": "f78e757b",
      "metadata": {
        "id": "f78e757b"
      },
      "source": [
        "\n",
        "## Problem 2\n",
        "You are given **40 wait times**  of hours-until-first-incident in the data frame. (use `df.wait_time` to access it).\n",
        "\n",
        "**(a)** Derive or state the MLE $\\hat p$ for the geometric model$.  \n"
      ]
    },
    {
      "cell_type": "code",
      "source": [
        "wait_time = df.wait_time"
      ],
      "metadata": {
        "id": "-puzLeIK-qGM"
      },
      "id": "-puzLeIK-qGM",
      "execution_count": 7,
      "outputs": []
    },
    {
      "cell_type": "code",
      "execution_count": 7,
      "id": "a7241fbd",
      "metadata": {
        "id": "a7241fbd"
      },
      "outputs": [],
      "source": [
        "mleGeo = 1/np.mean(wait_time) #np.mean(wait_time) being my x bar"
      ]
    },
    {
      "cell_type": "markdown",
      "id": "e49a2b3b",
      "metadata": {
        "id": "e49a2b3b"
      },
      "source": [
        "**(b)** Compute $\\hat p$ using the provided data.  \n"
      ]
    },
    {
      "cell_type": "code",
      "execution_count": 8,
      "id": "88e10c25",
      "metadata": {
        "colab": {
          "base_uri": "https://localhost:8080/"
        },
        "id": "88e10c25",
        "outputId": "98e333c8-6fd8-4b55-f4e8-cb8bf7de18aa"
      },
      "outputs": [
        {
          "output_type": "stream",
          "name": "stdout",
          "text": [
            "0.21978021978021978\n"
          ]
        }
      ],
      "source": [
        "mleGeo = 1/np.mean(wait_time)\n",
        "print(mleGeo)"
      ]
    },
    {
      "cell_type": "markdown",
      "id": "1f237f65",
      "metadata": {
        "id": "1f237f65"
      },
      "source": [
        "**(c)** Interpret $\\hat p$ in plain language.\n"
      ]
    },
    {
      "cell_type": "markdown",
      "id": "87d324fc",
      "metadata": {
        "id": "87d324fc"
      },
      "source": [
        "Based on the data, the estimated probability of an incident occuring in any given hour is around 22%, leading to an expectation of one incident every 4.5 hours."
      ]
    },
    {
      "cell_type": "markdown",
      "id": "eacfda88",
      "metadata": {
        "id": "eacfda88"
      },
      "source": [
        "\n",
        "## Problem 3\n",
        "Compute and report for `wait_time` the following:  \n",
        "- mean,\n",
        "- median,\n",
        "- standard deviation, and\n",
        "- IQR.\n"
      ]
    },
    {
      "cell_type": "code",
      "execution_count": 10,
      "id": "460a8fb7",
      "metadata": {
        "colab": {
          "base_uri": "https://localhost:8080/"
        },
        "id": "460a8fb7",
        "outputId": "f459fae9-58a7-4b4e-a579-1af4c3ea530c"
      },
      "outputs": [
        {
          "output_type": "stream",
          "name": "stdout",
          "text": [
            "Mean: 4.55\n",
            "Median: 3.0\n",
            "Standard Deviation: 4.21870833312757\n",
            "IQR: 5.0\n"
          ]
        }
      ],
      "source": [
        "mean = np.mean(wait_time)\n",
        "median = np.median(wait_time)\n",
        "std = np.std(wait_time)\n",
        "q1, q3 = np.percentile(wait_time, [25, 75])\n",
        "\n",
        "print(f\"Mean: {mean}\")\n",
        "print(f\"Median: {median}\")\n",
        "print(f\"Standard Deviation: {std}\")\n",
        "print(f\"IQR: {q3-q1}\")\n"
      ]
    },
    {
      "cell_type": "markdown",
      "id": "d3f7da9d",
      "metadata": {
        "id": "d3f7da9d"
      },
      "source": [
        "\n",
        "## Problem 4\n",
        "Create a figure to visualize `wait_time`.\n"
      ]
    },
    {
      "cell_type": "code",
      "execution_count": 11,
      "id": "c0d34811",
      "metadata": {
        "colab": {
          "base_uri": "https://localhost:8080/",
          "height": 358
        },
        "id": "c0d34811",
        "outputId": "c3dcdb9b-48d7-4b89-d152-aed447981d8d"
      },
      "outputs": [
        {
          "output_type": "display_data",
          "data": {
            "text/plain": [
              "<Figure size 800x400 with 1 Axes>"
            ],
            "image/png": "[encoded data removed]"
          },
          "metadata": {}
        }
      ],
      "source": [
        "fig = plt.figure(figsize=(8, 4))\n",
        "plt.hist(wait_time, bins=10, edgecolor='black')\n",
        "\n",
        "plt.xlabel(\"Time\")\n",
        "plt.ylabel('Frequency')\n",
        "plt.show()"
      ]
    },
    {
      "cell_type": "markdown",
      "id": "f6a6ef29",
      "metadata": {
        "id": "f6a6ef29"
      },
      "source": [
        "\n",
        "## Problem 5\n",
        "Assume `wait_time` follows an Exponential($\\lambda$) model. Compute $\\hat\\lambda$ using the 40 values.\n"
      ]
    },
    {
      "cell_type": "code",
      "execution_count": 23,
      "id": "22ad598e",
      "metadata": {
        "colab": {
          "base_uri": "https://localhost:8080/"
        },
        "id": "22ad598e",
        "outputId": "17c7f6b5-c031-48c7-ce30-3cedad21bde3"
      },
      "outputs": [
        {
          "output_type": "stream",
          "name": "stdout",
          "text": [
            "Lambda: 0.21978021978021978\n"
          ]
        }
      ],
      "source": [
        "lambda_hat = 1/np.mean(wait_time)\n",
        "print(f\"Lambda: {lambda_hat}\")"
      ]
    },
    {
      "cell_type": "markdown",
      "id": "09bf83a6",
      "metadata": {
        "id": "09bf83a6"
      },
      "source": [
        "\n",
        "## Problem 6\n",
        "Assume `wait_time` follows a Normal($\\mu,\\sigma^2$) model. Compute $\\hat\\mu$ and $\\hat\\sigma$ (MLEs).\n"
      ]
    },
    {
      "cell_type": "code",
      "execution_count": 16,
      "id": "c06f71ad",
      "metadata": {
        "colab": {
          "base_uri": "https://localhost:8080/"
        },
        "id": "c06f71ad",
        "outputId": "85e287b3-61b0-4745-b6ba-1a9d21c187e4"
      },
      "outputs": [
        {
          "output_type": "stream",
          "name": "stdout",
          "text": [
            "Mu = 4.55\n",
            "Sigma = 17.797500000000003\n"
          ]
        }
      ],
      "source": [
        "mu_hat = np.mean(wait_time)\n",
        "sigma_hat = np.std(wait_time)**2\n",
        "print(f\"Mu = {mu_hat}\")\n",
        "print(f\"Sigma = {sigma_hat}\")"
      ]
    },
    {
      "cell_type": "markdown",
      "id": "e10b6c0f",
      "metadata": {
        "id": "e10b6c0f"
      },
      "source": [
        "\n",
        "## Problem 7\n",
        "\n",
        "Overlay the fitted **Exponential($\\hat\\lambda$)** and **Normal($\\hat\\mu,\\hat\\sigma$)** densities on the histogram of `wait_time`.\n"
      ]
    },
    {
      "cell_type": "code",
      "source": [
        "wait = LinearRegression()\n",
        "wait.fit(wait_time.values.reshape(-1, 1), wait_time)"
      ],
      "metadata": {
        "colab": {
          "base_uri": "https://localhost:8080/",
          "height": 80
        },
        "id": "4bwC9HxVEiYf",
        "outputId": "4fab7eac-03f3-4c7b-cfc0-1a4180a0fc70"
      },
      "id": "4bwC9HxVEiYf",
      "execution_count": 18,
      "outputs": [
        {
          "output_type": "execute_result",
          "data": {
            "text/plain": [
              "LinearRegression()"
            ],
            "text/html": [
              "<style>#sk-container-id-1 {\n",
              "  /* Definition of color scheme common for light and dark mode */\n",
              "  --sklearn-color-text: #000;\n",
              "  --sklearn-color-text-muted: #666;\n",
              "  --sklearn-color-line: gray;\n",
              "  /* Definition of color scheme for unfitted estimators */\n",
              "  --sklearn-color-unfitted-level-0: #fff5e6;\n",
              "  --sklearn-color-unfitted-level-1: #f6e4d2;\n",
              "  --sklearn-color-unfitted-level-2: #ffe0b3;\n",
              "  --sklearn-color-unfitted-level-3: chocolate;\n",
              "  /* Definition of color scheme for fitted estimators */\n",
              "  --sklearn-color-fitted-level-0: #f0f8ff;\n",
              "  --sklearn-color-fitted-level-1: #d4ebff;\n",
              "  --sklearn-color-fitted-level-2: #b3dbfd;\n",
              "  --sklearn-color-fitted-level-3: cornflowerblue;\n",
              "\n",
              "  /* Specific color for light theme */\n",
              "  --sklearn-color-text-on-default-background: var(--sg-text-color, var(--theme-code-foreground, var(--jp-content-font-color1, black)));\n",
              "  --sklearn-color-background: var(--sg-background-color, var(--theme-background, var(--jp-layout-color0, white)));\n",
              "  --sklearn-color-border-box: var(--sg-text-color, var(--theme-code-foreground, var(--jp-content-font-color1, black)));\n",
              "  --sklearn-color-icon: #696969;\n",
              "\n",
              "  @media (prefers-color-scheme: dark) {\n",
              "    /* Redefinition of color scheme for dark theme */\n",
              "    --sklearn-color-text-on-default-background: var(--sg-text-color, var(--theme-code-foreground, var(--jp-content-font-color1, white)));\n",
              "    --sklearn-color-background: var(--sg-background-color, var(--theme-background, var(--jp-layout-color0, #111)));\n",
              "    --sklearn-color-border-box: var(--sg-text-color, var(--theme-code-foreground, var(--jp-content-font-color1, white)));\n",
              "    --sklearn-color-icon: #878787;\n",
              "  }\n",
              "}\n",
              "\n",
              "#sk-container-id-1 {\n",
              "  color: var(--sklearn-color-text);\n",
              "}\n",
              "\n",
              "#sk-container-id-1 pre {\n",
              "  padding: 0;\n",
              "}\n",
              "\n",
              "#sk-container-id-1 input.sk-hidden--visually {\n",
              "  border: 0;\n",
              "  clip: rect(1px 1px 1px 1px);\n",
              "  clip: rect(1px, 1px, 1px, 1px);\n",
              "  height: 1px;\n",
              "  margin: -1px;\n",
              "  overflow: hidden;\n",
              "  padding: 0;\n",
              "  position: absolute;\n",
              "  width: 1px;\n",
              "}\n",
              "\n",
              "#sk-container-id-1 div.sk-dashed-wrapped {\n",
              "  border: 1px dashed var(--sklearn-color-line);\n",
              "  margin: 0 0.4em 0.5em 0.4em;\n",
              "  box-sizing: border-box;\n",
              "  padding-bottom: 0.4em;\n",
              "  background-color: var(--sklearn-color-background);\n",
              "}\n",
              "\n",
              "#sk-container-id-1 div.sk-container {\n",
              "  /* jupyter's `normalize.less` sets `[hidden] { display: none; }`\n",
              "     but bootstrap.min.css set `[hidden] { display: none !important; }`\n",
              "     so we also need the `!important` here to be able to override the\n",
              "     default hidden behavior on the sphinx rendered scikit-learn.org.\n",
              "     See: https://github.com/scikit-learn/scikit-learn/issues/21755 */\n",
              "  display: inline-block !important;\n",
              "  position: relative;\n",
              "}\n",
              "\n",
              "#sk-container-id-1 div.sk-text-repr-fallback {\n",
              "  display: none;\n",
              "}\n",
              "\n",
              "div.sk-parallel-item,\n",
              "div.sk-serial,\n",
              "div.sk-item {\n",
              "  /* draw centered vertical line to link estimators */\n",
              "  background-image: linear-gradient(var(--sklearn-color-text-on-default-background), var(--sklearn-color-text-on-default-background));\n",
              "  background-size: 2px 100%;\n",
              "  background-repeat: no-repeat;\n",
              "  background-position: center center;\n",
              "}\n",
              "\n",
              "/* Parallel-specific style estimator block */\n",
              "\n",
              "#sk-container-id-1 div.sk-parallel-item::after {\n",
              "  content: \"\";\n",
              "  width: 100%;\n",
              "  border-bottom: 2px solid var(--sklearn-color-text-on-default-background);\n",
              "  flex-grow: 1;\n",
              "}\n",
              "\n",
              "#sk-container-id-1 div.sk-parallel {\n",
              "  display: flex;\n",
              "  align-items: stretch;\n",
              "  justify-content: center;\n",
              "  background-color: var(--sklearn-color-background);\n",
              "  position: relative;\n",
              "}\n",
              "\n",
              "#sk-container-id-1 div.sk-parallel-item {\n",
              "  display: flex;\n",
              "  flex-direction: column;\n",
              "}\n",
              "\n",
              "#sk-container-id-1 div.sk-parallel-item:first-child::after {\n",
              "  align-self: flex-end;\n",
              "  width: 50%;\n",
              "}\n",
              "\n",
              "#sk-container-id-1 div.sk-parallel-item:last-child::after {\n",
              "  align-self: flex-start;\n",
              "  width: 50%;\n",
              "}\n",
              "\n",
              "#sk-container-id-1 div.sk-parallel-item:only-child::after {\n",
              "  width: 0;\n",
              "}\n",
              "\n",
              "/* Serial-specific style estimator block */\n",
              "\n",
              "#sk-container-id-1 div.sk-serial {\n",
              "  display: flex;\n",
              "  flex-direction: column;\n",
              "  align-items: center;\n",
              "  background-color: var(--sklearn-color-background);\n",
              "  padding-right: 1em;\n",
              "  padding-left: 1em;\n",
              "}\n",
              "\n",
              "\n",
              "/* Toggleable style: style used for estimator/Pipeline/ColumnTransformer box that is\n",
              "clickable and can be expanded/collapsed.\n",
              "- Pipeline and ColumnTransformer use this feature and define the default style\n",
              "- Estimators will overwrite some part of the style using the `sk-estimator` class\n",
              "*/\n",
              "\n",
              "/* Pipeline and ColumnTransformer style (default) */\n",
              "\n",
              "#sk-container-id-1 div.sk-toggleable {\n",
              "  /* Default theme specific background. It is overwritten whether we have a\n",
              "  specific estimator or a Pipeline/ColumnTransformer */\n",
              "  background-color: var(--sklearn-color-background);\n",
              "}\n",
              "\n",
              "/* Toggleable label */\n",
              "#sk-container-id-1 label.sk-toggleable__label {\n",
              "  cursor: pointer;\n",
              "  display: flex;\n",
              "  width: 100%;\n",
              "  margin-bottom: 0;\n",
              "  padding: 0.5em;\n",
              "  box-sizing: border-box;\n",
              "  text-align: center;\n",
              "  align-items: start;\n",
              "  justify-content: space-between;\n",
              "  gap: 0.5em;\n",
              "}\n",
              "\n",
              "#sk-container-id-1 label.sk-toggleable__label .caption {\n",
              "  font-size: 0.6rem;\n",
              "  font-weight: lighter;\n",
              "  color: var(--sklearn-color-text-muted);\n",
              "}\n",
              "\n",
              "#sk-container-id-1 label.sk-toggleable__label-arrow:before {\n",
              "  /* Arrow on the left of the label */\n",
              "  content: \"▸\";\n",
              "  float: left;\n",
              "  margin-right: 0.25em;\n",
              "  color: var(--sklearn-color-icon);\n",
              "}\n",
              "\n",
              "#sk-container-id-1 label.sk-toggleable__label-arrow:hover:before {\n",
              "  color: var(--sklearn-color-text);\n",
              "}\n",
              "\n",
              "/* Toggleable content - dropdown */\n",
              "\n",
              "#sk-container-id-1 div.sk-toggleable__content {\n",
              "  max-height: 0;\n",
              "  max-width: 0;\n",
              "  overflow: hidden;\n",
              "  text-align: left;\n",
              "  /* unfitted */\n",
              "  background-color: var(--sklearn-color-unfitted-level-0);\n",
              "}\n",
              "\n",
              "#sk-container-id-1 div.sk-toggleable__content.fitted {\n",
              "  /* fitted */\n",
              "  background-color: var(--sklearn-color-fitted-level-0);\n",
              "}\n",
              "\n",
              "#sk-container-id-1 div.sk-toggleable__content pre {\n",
              "  margin: 0.2em;\n",
              "  border-radius: 0.25em;\n",
              "  color: var(--sklearn-color-text);\n",
              "  /* unfitted */\n",
              "  background-color: var(--sklearn-color-unfitted-level-0);\n",
              "}\n",
              "\n",
              "#sk-container-id-1 div.sk-toggleable__content.fitted pre {\n",
              "  /* unfitted */\n",
              "  background-color: var(--sklearn-color-fitted-level-0);\n",
              "}\n",
              "\n",
              "#sk-container-id-1 input.sk-toggleable__control:checked~div.sk-toggleable__content {\n",
              "  /* Expand drop-down */\n",
              "  max-height: 200px;\n",
              "  max-width: 100%;\n",
              "  overflow: auto;\n",
              "}\n",
              "\n",
              "#sk-container-id-1 input.sk-toggleable__control:checked~label.sk-toggleable__label-arrow:before {\n",
              "  content: \"▾\";\n",
              "}\n",
              "\n",
              "/* Pipeline/ColumnTransformer-specific style */\n",
              "\n",
              "#sk-container-id-1 div.sk-label input.sk-toggleable__control:checked~label.sk-toggleable__label {\n",
              "  color: var(--sklearn-color-text);\n",
              "  background-color: var(--sklearn-color-unfitted-level-2);\n",
              "}\n",
              "\n",
              "#sk-container-id-1 div.sk-label.fitted input.sk-toggleable__control:checked~label.sk-toggleable__label {\n",
              "  background-color: var(--sklearn-color-fitted-level-2);\n",
              "}\n",
              "\n",
              "/* Estimator-specific style */\n",
              "\n",
              "/* Colorize estimator box */\n",
              "#sk-container-id-1 div.sk-estimator input.sk-toggleable__control:checked~label.sk-toggleable__label {\n",
              "  /* unfitted */\n",
              "  background-color: var(--sklearn-color-unfitted-level-2);\n",
              "}\n",
              "\n",
              "#sk-container-id-1 div.sk-estimator.fitted input.sk-toggleable__control:checked~label.sk-toggleable__label {\n",
              "  /* fitted */\n",
              "  background-color: var(--sklearn-color-fitted-level-2);\n",
              "}\n",
              "\n",
              "#sk-container-id-1 div.sk-label label.sk-toggleable__label,\n",
              "#sk-container-id-1 div.sk-label label {\n",
              "  /* The background is the default theme color */\n",
              "  color: var(--sklearn-color-text-on-default-background);\n",
              "}\n",
              "\n",
              "/* On hover, darken the color of the background */\n",
              "#sk-container-id-1 div.sk-label:hover label.sk-toggleable__label {\n",
              "  color: var(--sklearn-color-text);\n",
              "  background-color: var(--sklearn-color-unfitted-level-2);\n",
              "}\n",
              "\n",
              "/* Label box, darken color on hover, fitted */\n",
              "#sk-container-id-1 div.sk-label.fitted:hover label.sk-toggleable__label.fitted {\n",
              "  color: var(--sklearn-color-text);\n",
              "  background-color: var(--sklearn-color-fitted-level-2);\n",
              "}\n",
              "\n",
              "/* Estimator label */\n",
              "\n",
              "#sk-container-id-1 div.sk-label label {\n",
              "  font-family: monospace;\n",
              "  font-weight: bold;\n",
              "  display: inline-block;\n",
              "  line-height: 1.2em;\n",
              "}\n",
              "\n",
              "#sk-container-id-1 div.sk-label-container {\n",
              "  text-align: center;\n",
              "}\n",
              "\n",
              "/* Estimator-specific */\n",
              "#sk-container-id-1 div.sk-estimator {\n",
              "  font-family: monospace;\n",
              "  border: 1px dotted var(--sklearn-color-border-box);\n",
              "  border-radius: 0.25em;\n",
              "  box-sizing: border-box;\n",
              "  margin-bottom: 0.5em;\n",
              "  /* unfitted */\n",
              "  background-color: var(--sklearn-color-unfitted-level-0);\n",
              "}\n",
              "\n",
              "#sk-container-id-1 div.sk-estimator.fitted {\n",
              "  /* fitted */\n",
              "  background-color: var(--sklearn-color-fitted-level-0);\n",
              "}\n",
              "\n",
              "/* on hover */\n",
              "#sk-container-id-1 div.sk-estimator:hover {\n",
              "  /* unfitted */\n",
              "  background-color: var(--sklearn-color-unfitted-level-2);\n",
              "}\n",
              "\n",
              "#sk-container-id-1 div.sk-estimator.fitted:hover {\n",
              "  /* fitted */\n",
              "  background-color: var(--sklearn-color-fitted-level-2);\n",
              "}\n",
              "\n",
              "/* Specification for estimator info (e.g. \"i\" and \"?\") */\n",
              "\n",
              "/* Common style for \"i\" and \"?\" */\n",
              "\n",
              ".sk-estimator-doc-link,\n",
              "a:link.sk-estimator-doc-link,\n",
              "a:visited.sk-estimator-doc-link {\n",
              "  float: right;\n",
              "  font-size: smaller;\n",
              "  line-height: 1em;\n",
              "  font-family: monospace;\n",
              "  background-color: var(--sklearn-color-background);\n",
              "  border-radius: 1em;\n",
              "  height: 1em;\n",
              "  width: 1em;\n",
              "  text-decoration: none !important;\n",
              "  margin-left: 0.5em;\n",
              "  text-align: center;\n",
              "  /* unfitted */\n",
              "  border: var(--sklearn-color-unfitted-level-1) 1pt solid;\n",
              "  color: var(--sklearn-color-unfitted-level-1);\n",
              "}\n",
              "\n",
              ".sk-estimator-doc-link.fitted,\n",
              "a:link.sk-estimator-doc-link.fitted,\n",
              "a:visited.sk-estimator-doc-link.fitted {\n",
              "  /* fitted */\n",
              "  border: var(--sklearn-color-fitted-level-1) 1pt solid;\n",
              "  color: var(--sklearn-color-fitted-level-1);\n",
              "}\n",
              "\n",
              "/* On hover */\n",
              "div.sk-estimator:hover .sk-estimator-doc-link:hover,\n",
              ".sk-estimator-doc-link:hover,\n",
              "div.sk-label-container:hover .sk-estimator-doc-link:hover,\n",
              ".sk-estimator-doc-link:hover {\n",
              "  /* unfitted */\n",
              "  background-color: var(--sklearn-color-unfitted-level-3);\n",
              "  color: var(--sklearn-color-background);\n",
              "  text-decoration: none;\n",
              "}\n",
              "\n",
              "div.sk-estimator.fitted:hover .sk-estimator-doc-link.fitted:hover,\n",
              ".sk-estimator-doc-link.fitted:hover,\n",
              "div.sk-label-container:hover .sk-estimator-doc-link.fitted:hover,\n",
              ".sk-estimator-doc-link.fitted:hover {\n",
              "  /* fitted */\n",
              "  background-color: var(--sklearn-color-fitted-level-3);\n",
              "  color: var(--sklearn-color-background);\n",
              "  text-decoration: none;\n",
              "}\n",
              "\n",
              "/* Span, style for the box shown on hovering the info icon */\n",
              ".sk-estimator-doc-link span {\n",
              "  display: none;\n",
              "  z-index: 9999;\n",
              "  position: relative;\n",
              "  font-weight: normal;\n",
              "  right: .2ex;\n",
              "  padding: .5ex;\n",
              "  margin: .5ex;\n",
              "  width: min-content;\n",
              "  min-width: 20ex;\n",
              "  max-width: 50ex;\n",
              "  color: var(--sklearn-color-text);\n",
              "  box-shadow: 2pt 2pt 4pt #999;\n",
              "  /* unfitted */\n",
              "  background: var(--sklearn-color-unfitted-level-0);\n",
              "  border: .5pt solid var(--sklearn-color-unfitted-level-3);\n",
              "}\n",
              "\n",
              ".sk-estimator-doc-link.fitted span {\n",
              "  /* fitted */\n",
              "  background: var(--sklearn-color-fitted-level-0);\n",
              "  border: var(--sklearn-color-fitted-level-3);\n",
              "}\n",
              "\n",
              ".sk-estimator-doc-link:hover span {\n",
              "  display: block;\n",
              "}\n",
              "\n",
              "/* \"?\"-specific style due to the `<a>` HTML tag */\n",
              "\n",
              "#sk-container-id-1 a.estimator_doc_link {\n",
              "  float: right;\n",
              "  font-size: 1rem;\n",
              "  line-height: 1em;\n",
              "  font-family: monospace;\n",
              "  background-color: var(--sklearn-color-background);\n",
              "  border-radius: 1rem;\n",
              "  height: 1rem;\n",
              "  width: 1rem;\n",
              "  text-decoration: none;\n",
              "  /* unfitted */\n",
              "  color: var(--sklearn-color-unfitted-level-1);\n",
              "  border: var(--sklearn-color-unfitted-level-1) 1pt solid;\n",
              "}\n",
              "\n",
              "#sk-container-id-1 a.estimator_doc_link.fitted {\n",
              "  /* fitted */\n",
              "  border: var(--sklearn-color-fitted-level-1) 1pt solid;\n",
              "  color: var(--sklearn-color-fitted-level-1);\n",
              "}\n",
              "\n",
              "/* On hover */\n",
              "#sk-container-id-1 a.estimator_doc_link:hover {\n",
              "  /* unfitted */\n",
              "  background-color: var(--sklearn-color-unfitted-level-3);\n",
              "  color: var(--sklearn-color-background);\n",
              "  text-decoration: none;\n",
              "}\n",
              "\n",
              "#sk-container-id-1 a.estimator_doc_link.fitted:hover {\n",
              "  /* fitted */\n",
              "  background-color: var(--sklearn-color-fitted-level-3);\n",
              "}\n",
              "</style><div id=\"sk-container-id-1\" class=\"sk-top-container\"><div class=\"sk-text-repr-fallback\"><pre>LinearRegression()</pre><b>In a Jupyter environment, please rerun this cell to show the HTML representation or trust the notebook. <br />On GitHub, the HTML representation is unable to render, please try loading this page with nbviewer.org.</b></div><div class=\"sk-container\" hidden><div class=\"sk-item\"><div class=\"sk-estimator fitted sk-toggleable\"><input class=\"sk-toggleable__control sk-hidden--visually\" id=\"sk-estimator-id-1\" type=\"checkbox\" checked><label for=\"sk-estimator-id-1\" class=\"sk-toggleable__label fitted sk-toggleable__label-arrow\"><div><div>LinearRegression</div></div><div><a class=\"sk-estimator-doc-link fitted\" rel=\"noreferrer\" target=\"_blank\" href=\"https://scikit-learn.org/1.6/modules/generated/sklearn.linear_model.LinearRegression.html\">?<span>Documentation for LinearRegression</span></a><span class=\"sk-estimator-doc-link fitted\">i<span>Fitted</span></span></div></label><div class=\"sk-toggleable__content fitted\"><pre>LinearRegression()</pre></div> </div></div></div></div>"
            ]
          },
          "metadata": {},
          "execution_count": 18
        }
      ]
    },
    {
      "cell_type": "code",
      "execution_count": 24,
      "id": "fcb978e7",
      "metadata": {
        "colab": {
          "base_uri": "https://localhost:8080/",
          "height": 449
        },
        "id": "fcb978e7",
        "outputId": "d0f109bb-c2e0-487d-8fc9-74aff2cb6e2e"
      },
      "outputs": [
        {
          "output_type": "display_data",
          "data": {
            "text/plain": [
              "<Figure size 640x480 with 1 Axes>"
            ],
            "image/png": "[encoded data removed]"
          },
          "metadata": {}
        }
      ],
      "source": [
        "x = np.linspace(0, max(wait_time), 1000)\n",
        "\n",
        "exp_pdf = expon.pdf(x, scale=1/lambda_hat)\n",
        "norm_pdf = norm.pdf(x, loc=mu_hat, scale=np.sqrt(sigma_hat))\n",
        "\n",
        "plt.hist(wait_time, bins=10, density=True, alpha=0.5, label='Histogram')\n",
        "plt.plot(x, exp_pdf, label='Exponential Fit')\n",
        "plt.plot(x, norm_pdf, label='Normal Fit')\n",
        "plt.xlabel('Wait Time')\n",
        "plt.ylabel('Density')\n",
        "plt.legend()\n",
        "plt.show()"
      ]
    },
    {
      "cell_type": "markdown",
      "id": "a5e4353f",
      "metadata": {
        "id": "a5e4353f"
      },
      "source": [
        "## Problem 8\n",
        "\n",
        "**(a)** Compute **AIC** for both models and state which is preferred (lower is better).\n",
        "\n"
      ]
    },
    {
      "cell_type": "code",
      "source": [
        "def aic(loglik, k):\n",
        "    return -2*loglik + 2*k\n",
        "\n",
        "def log_likelihood_exp(lam, data):\n",
        "    return np.sum(expon.logpdf(data, scale=1/lam))\n",
        "\n",
        "def log_likelihood_norm(mu, sigma, data):\n",
        "    return np.sum(norm.logpdf(data, loc=mu, scale=sigma))"
      ],
      "metadata": {
        "id": "eickWpc8OWQX"
      },
      "id": "eickWpc8OWQX",
      "execution_count": 27,
      "outputs": []
    },
    {
      "cell_type": "code",
      "execution_count": 28,
      "id": "5e88db5c",
      "metadata": {
        "colab": {
          "base_uri": "https://localhost:8080/"
        },
        "id": "5e88db5c",
        "outputId": "baae7fc9-8abf-477e-c8c4-fa18e1093846"
      },
      "outputs": [
        {
          "output_type": "stream",
          "name": "stdout",
          "text": [
            "AIC for Normal: 310.0872291683305\n",
            "AIC for Exponential: 203.21017863702872\n"
          ]
        }
      ],
      "source": [
        "n = 40\n",
        "\n",
        "loglik_exp = log_likelihood_exp(lambda_hat, wait_time)\n",
        "loglik_norm = log_likelihood_norm(mu_hat, sigma_hat, wait_time)\n",
        "\n",
        "aic_exp = aic(loglik_exp, 1)\n",
        "aic_norm = aic(loglik_norm, 2)\n",
        "\n",
        "print(f\"AIC for Normal: {aic_norm}\")\n",
        "print(f\"AIC for Exponential: {aic_exp}\")"
      ]
    },
    {
      "cell_type": "markdown",
      "source": [
        "Lower AIC = Exponential"
      ],
      "metadata": {
        "id": "cSsGyZKWVcCp"
      },
      "id": "cSsGyZKWVcCp"
    },
    {
      "cell_type": "markdown",
      "id": "087df606",
      "metadata": {
        "id": "087df606"
      },
      "source": [
        "**(b)** Reconcile AIC with the plot in 1–2 sentences.\n"
      ]
    },
    {
      "cell_type": "markdown",
      "id": "f16f94a0",
      "metadata": {
        "id": "f16f94a0"
      },
      "source": [
        "Based off of the lower AIC and the better fitting line with the plot, the exponential model fits better with the data."
      ]
    },
    {
      "cell_type": "markdown",
      "id": "a65b9af2",
      "metadata": {
        "id": "a65b9af2"
      },
      "source": [
        "\n",
        "## Problem 9\n",
        "Using the **preferred model** from Q8 (pick one if you don't know):\n",
        "\n",
        "**(a)** Find the **90th percentile** and interpret it in context.  \n"
      ]
    },
    {
      "cell_type": "code",
      "execution_count": 30,
      "id": "53ae1fe1",
      "metadata": {
        "colab": {
          "base_uri": "https://localhost:8080/"
        },
        "id": "53ae1fe1",
        "outputId": "c5dcab20-b4f5-48e1-aabe-3fb2863abc17"
      },
      "outputs": [
        {
          "output_type": "stream",
          "name": "stdout",
          "text": [
            "90th percentile: 10.476762173122909\n"
          ]
        }
      ],
      "source": [
        "percentile_90 = expon.ppf(0.9, scale=1/lambda_hat)\n",
        "print(f\"90th percentile: {percentile_90}\")"
      ]
    },
    {
      "cell_type": "markdown",
      "id": "cd6f411c",
      "metadata": {
        "id": "cd6f411c"
      },
      "source": [
        "**(b)** What percentile corresponds to a wait time of **8 hours**? Show your steps.\n"
      ]
    },
    {
      "cell_type": "code",
      "execution_count": 31,
      "id": "27c53aef",
      "metadata": {
        "colab": {
          "base_uri": "https://localhost:8080/"
        },
        "id": "27c53aef",
        "outputId": "d6527813-1d0c-478b-fd06-e9d58f70c714"
      },
      "outputs": [
        {
          "output_type": "stream",
          "name": "stdout",
          "text": [
            "8 hour percentile: 0.827652373626202\n"
          ]
        }
      ],
      "source": [
        "percentile_8 = expon.cdf(8, scale=1/lambda_hat)\n",
        "print(f\"8 hour percentile: {percentile_8}\")"
      ]
    },
    {
      "cell_type": "markdown",
      "id": "d6808e9a",
      "metadata": {
        "id": "d6808e9a"
      },
      "source": [
        "\n",
        "## Problem 10\n",
        "Fit a linear model predicting `wait_time` using both predictors:\n",
        "$$ Y = \\beta_0 + \\beta_1(\\text{open\\_tickets}) + \\beta_2(\\text{agent\\_experience}) + \\epsilon. $$\n",
        "\n",
        "**(a)** Fit the model and report $\\hat\\beta_0, \\hat\\beta_1, \\hat\\beta_2$.  \n"
      ]
    },
    {
      "cell_type": "code",
      "execution_count": 32,
      "id": "ce67fbbc",
      "metadata": {
        "colab": {
          "base_uri": "https://localhost:8080/"
        },
        "id": "ce67fbbc",
        "outputId": "6325df6b-aad4-4580-b786-dbe7f2424357"
      },
      "outputs": [
        {
          "output_type": "stream",
          "name": "stdout",
          "text": [
            "Beta 0: 3.649213393458756\n",
            "Beta 1: -0.20478415196534003\n",
            "Beta 2: 0.09237879202153396\n"
          ]
        }
      ],
      "source": [
        "x = df[['open_tickets', 'agent_experience']]\n",
        "y = df['wait_time']\n",
        "\n",
        "model = LinearRegression()\n",
        "model.fit(x, y)\n",
        "\n",
        "beta_0 = model.intercept_\n",
        "beta_1 = model.coef_[0]\n",
        "beta_2 = model.coef_[1]\n",
        "\n",
        "print(f\"Beta 0: {beta_0}\")\n",
        "print(f\"Beta 1: {beta_1}\")\n",
        "print(f\"Beta 2: {beta_2}\")"
      ]
    },
    {
      "cell_type": "markdown",
      "id": "26eaaf9a",
      "metadata": {
        "id": "26eaaf9a"
      },
      "source": [
        "**(b)** Interpret $\\beta_1$ and $\\beta_2$ in context.  \n"
      ]
    },
    {
      "cell_type": "markdown",
      "source": [
        "B1 is the expected change in y, wait_time, when the value of open_tickets changes by one, holding all else constant.\n",
        "\n",
        "B2 is the expected change in the wait time when the value of agent experience changes by one, holding all else constant."
      ],
      "metadata": {
        "id": "nu2wmBUoSWVy"
      },
      "id": "nu2wmBUoSWVy"
    },
    {
      "cell_type": "markdown",
      "id": "d042e277",
      "metadata": {
        "id": "d042e277"
      },
      "source": [
        "\n",
        "## Problem 11\n",
        "Fit a regression tree predicting `wait_time` from `open_tickets` and `agent_experience`. Use a max depth of 3.\n",
        "\n",
        "**(a)** Fit and display the tree.  \n"
      ]
    },
    {
      "cell_type": "code",
      "execution_count": 34,
      "id": "2adc8bc7",
      "metadata": {
        "colab": {
          "base_uri": "https://localhost:8080/",
          "height": 646
        },
        "id": "2adc8bc7",
        "outputId": "2391aaab-f93a-4208-8281-376b845c4898"
      },
      "outputs": [
        {
          "output_type": "display_data",
          "data": {
            "text/plain": [
              "<Figure size 1000x1000 with 1 Axes>"
            ],
            "image/png": "[encoded data removed]"
          },
          "metadata": {}
        }
      ],
      "source": [
        "x = df[['open_tickets', 'agent_experience']]\n",
        "y = df['wait_time']\n",
        "\n",
        "model = DecisionTreeRegressor(max_depth=3)\n",
        "model.fit(x, y)\n",
        "\n",
        "plt.figure(figsize=(10, 10))\n",
        "tree.plot_tree(model, filled=True)\n",
        "plt.show()\n"
      ]
    },
    {
      "cell_type": "markdown",
      "id": "e6ec0258",
      "metadata": {
        "id": "e6ec0258"
      },
      "source": [
        "**(b)** Choose one internal node and describe all four values listed. (Note, you need to use the `tree` package as in the class code to get these values)\n"
      ]
    },
    {
      "cell_type": "markdown",
      "id": "6d9b699e",
      "metadata": {
        "id": "6d9b699e"
      },
      "source": [
        "Row 3, internal node 2 (from the left)\n",
        "\n",
        "x[1] <= 17.5 is the predictor, which splits the data into the two nodes below it based on it being True or False.\n",
        "\n",
        "The Squared error, 5.775, is how spread out the actual values are from the average, or predicted, values in each leaf.\n",
        "\n",
        "The samples, 13 is how many items from the original dataset fall into that node, following the predictors. In this case, there are 13 of the original 40 in this specific node.\n",
        "\n",
        "The value, 3.615, is the prediction of the value that one should get if they get to this node through the tree. So, if they end up finding themselves at this node, they should expect a wait time of 3.615."
      ]
    }
  ],
  "metadata": {
    "kernelspec": {
      "display_name": "base",
      "language": "python",
      "name": "python3"
    },
    "language_info": {
      "codemirror_mode": {
        "name": "ipython",
        "version": 3
      },
      "file_extension": ".py",
      "mimetype": "text/x-python",
      "name": "python",
      "nbconvert_exporter": "python",
      "pygments_lexer": "ipython3",
      "version": "3.12.6"
    },
    "colab": {
      "provenance": [],
      "include_colab_link": true
    }
  },
  "nbformat": 4,
  "nbformat_minor": 5
}