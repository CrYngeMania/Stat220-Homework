{
  "cells": [
    {
      "cell_type": "markdown",
      "id": "77054585",
      "metadata": {
        "id": "77054585"
      },
      "source": [
        "[![Open in Colab](https://colab.research.google.com/assets/colab-badge.svg)](https://colab.research.google.com/github/drbob-richardson/stat220/blob/main/Assignments/Stat_220_HW4.ipynb)"
      ]
    },
    {
      "cell_type": "markdown",
      "id": "f8b4fe84",
      "metadata": {
        "id": "f8b4fe84"
      },
      "source": [
        "# Stat 220 — Homework 4:\n",
        "\n",
        "**Instructions**\n",
        "- Answer all questions. Show all work for full credit.\n",
        "- Use Python (NumPy/Matplotlib/SciPy) to compute values and make plots.\n",
        "- When a plot is requested, label axes and include a legend.\n",
        "- You may add cells as needed."
      ]
    },
    {
      "cell_type": "code",
      "execution_count": 2,
      "id": "573495b5",
      "metadata": {
        "id": "573495b5"
      },
      "outputs": [],
      "source": [
        "\n",
        "# Feel free to add any imports you want here.\n",
        "import math\n",
        "import numpy as np\n",
        "import matplotlib.pyplot as plt\n",
        "from scipy.stats import norm, expon, binom"
      ]
    },
    {
      "cell_type": "markdown",
      "id": "5bdee43f",
      "metadata": {
        "id": "5bdee43f"
      },
      "source": [
        "## Data (used in Q1–Q4)\n",
        "We use this small dataset throughout Questions 1–4:"
      ]
    },
    {
      "cell_type": "code",
      "execution_count": 3,
      "id": "c970bc83",
      "metadata": {
        "id": "c970bc83",
        "colab": {
          "base_uri": "https://localhost:8080/"
        },
        "outputId": "a9a71f75-f42c-41f9-a082-b8d79d44e84e"
      },
      "outputs": [
        {
          "output_type": "execute_result",
          "data": {
            "text/plain": [
              "array([1.1, 3.4, 5.7, 1.9, 2.3, 4.1, 0.9, 1.6, 2.4, 0.5])"
            ]
          },
          "metadata": {},
          "execution_count": 3
        }
      ],
      "source": [
        "\n",
        "x = np.array([1.1, 3.4, 5.7, 1.9, 2.3, 4.1, 0.9, 1.6, 2.4, 0.5], dtype=float)\n",
        "n = len(x)\n",
        "x\n"
      ]
    },
    {
      "cell_type": "markdown",
      "id": "1f678832",
      "metadata": {
        "id": "1f678832"
      },
      "source": [
        "## Question 1 — Likelihood Function Practice\n",
        "\n",
        "You are given the dataset:\n",
        "\\[\n",
        "x = (1.1, 3.4, 5.7, 1.9, 2.3, 4.1, 0.9, 1.6, 2.4, 0.5).\n",
        "\\]\n",
        "\n"
      ]
    },
    {
      "cell_type": "markdown",
      "id": "eb238489",
      "metadata": {
        "id": "eb238489"
      },
      "source": [
        "**(a)** Derive the **likelihood function**  if the data are assumed to come from an **Exponential($\\lambda$)** distribution **with fixed $\\lambda = 0.5$**. Then **evaluate** the likelihood at the given data."
      ]
    },
    {
      "cell_type": "code",
      "execution_count": 19,
      "id": "77733a1a",
      "metadata": {
        "id": "77733a1a",
        "colab": {
          "base_uri": "https://localhost:8080/"
        },
        "outputId": "60888c79-18e5-4c77-fed8-c7c9af575fa0"
      },
      "outputs": [
        {
          "output_type": "stream",
          "name": "stdout",
          "text": [
            "PDF Values: [0.28847491 0.09134176 0.02892216 0.19337051 0.15831838 0.06436745\n",
            " 0.31881408 0.22466448 0.15059711 0.38940039]\n",
            "Likelihood: 6.307844586963339e-09\n",
            "Log Likelihood: -18.881471805599453\n"
          ]
        }
      ],
      "source": [
        "rate = .5\n",
        "scale = 1/rate\n",
        "x = np.array([1.1, 3.4, 5.7, 1.9, 2.3, 4.1, 0.9, 1.6, 2.4, 0.5])\n",
        "\n",
        "likelihood_values = expon.pdf(x, scale = scale)\n",
        "\n",
        "\n",
        "log_likelihood = np.sum(np.log(likelihood_values))\n",
        "\n",
        "\n",
        "likelihood = np.prod(likelihood_values)\n",
        "\n",
        "\n",
        "print(f\"PDF Values: {likelihood_values}\")\n",
        "print(f\"Likelihood: {likelihood}\")\n",
        "print(f\"Log Likelihood: {log_likelihood}\")"
      ]
    },
    {
      "cell_type": "markdown",
      "id": "37ed941c",
      "metadata": {
        "id": "37ed941c"
      },
      "source": [
        "**(b)** Derive the likelihood function if the data are assumed to come from a **Normal($\\mu,\\sigma^2$)** distribution **with fixed $\\mu = 2$, $\\sigma = 1$**. Then **evaluate** that likelihood at the data."
      ]
    },
    {
      "cell_type": "code",
      "execution_count": 20,
      "id": "d1798794",
      "metadata": {
        "id": "d1798794",
        "colab": {
          "base_uri": "https://localhost:8080/"
        },
        "outputId": "a776c334-70b6-4d41-9743-8b8ed8b31baf"
      },
      "outputs": [
        {
          "output_type": "stream",
          "name": "stdout",
          "text": [
            "PDF Values: [0.26608525 0.14972747 0.00042478 0.39695255 0.38138782 0.0439836\n",
            " 0.21785218 0.36827014 0.36827014 0.1295176 ]\n",
            "Likelihood: 4.3122749603719275e-10\n",
            "Log Likelihood: -21.564385332046726\n"
          ]
        }
      ],
      "source": [
        "mu = 2\n",
        "sigma = 1\n",
        "likelihood_values = norm.pdf(x, mu, sigma)\n",
        "\n",
        "\n",
        "log_likelihood = np.sum(np.log(likelihood_values))\n",
        "\n",
        "\n",
        "likelihood = np.prod(likelihood_values)\n",
        "\n",
        "print(f\"PDF Values: {likelihood_values}\")\n",
        "print(f\"Likelihood: {likelihood}\")\n",
        "print(f\"Log Likelihood: {log_likelihood}\")"
      ]
    },
    {
      "cell_type": "markdown",
      "id": "276e7f05",
      "metadata": {
        "id": "276e7f05"
      },
      "source": [
        "## Question 2\n",
        "\n",
        "Assume the data are i.i.d. **Normal($\\mu,\\sigma^2$)** with both $\\mu$ and $\\sigma^2$ **unknown**.\n",
        "\n"
      ]
    },
    {
      "cell_type": "markdown",
      "id": "7ff83d10",
      "metadata": {
        "id": "7ff83d10"
      },
      "source": [
        "**(a)** Compute these MLEs for $\\mu$ and $\\sigma$ for the dataset.  \n"
      ]
    },
    {
      "cell_type": "code",
      "execution_count": 23,
      "id": "e1b6ec1b",
      "metadata": {
        "id": "e1b6ec1b",
        "colab": {
          "base_uri": "https://localhost:8080/"
        },
        "outputId": "09fb2bc4-8d87-4da2-b3f5-ef3c28e402e3"
      },
      "outputs": [
        {
          "output_type": "stream",
          "name": "stdout",
          "text": [
            "2.3899999999999997\n",
            "1.5241062955056643\n"
          ]
        }
      ],
      "source": [
        "mu = np.mean(x)\n",
        "print(mu)\n",
        "\n",
        "sigma = np.std(x, ddof=0)\n",
        "print(sigma)"
      ]
    },
    {
      "cell_type": "markdown",
      "id": "fb24a041",
      "metadata": {
        "id": "fb24a041"
      },
      "source": [
        "**(b)** Plot a **histogram** of the data with the **fitted Normal density** overlaid."
      ]
    },
    {
      "cell_type": "code",
      "execution_count": 29,
      "id": "ae6d69a8",
      "metadata": {
        "id": "ae6d69a8",
        "colab": {
          "base_uri": "https://localhost:8080/",
          "height": 451
        },
        "outputId": "b912f811-f896-4246-e6cb-b2928b5e5ea7"
      },
      "outputs": [
        {
          "output_type": "display_data",
          "data": {
            "text/plain": [
              "<Figure size 640x480 with 1 Axes>"
            ],
            "image/png": "[encoded data removed]"
          },
          "metadata": {}
        }
      ],
      "source": [
        "hist, bin_edges = np.histogram(x, bins=10, density=True)\n",
        "bin_centers = 0.5 * (bin_edges[1:] + bin_edges[:-1])\n",
        "x_grid = np.linspace(min(x)-1, max(x)+1, 100)\n",
        "pdf = norm.pdf(x_grid, loc=mu, scale=sigma)\n",
        "plt.bar(bin_centers, hist, width=(bin_edges[1] - bin_edges[0]), alpha=0.5, label='Histogram', align='center')\n",
        "plt.plot(x_grid, pdf, 'r-', lw=2, label='Fitted Normal')\n",
        "plt.xlabel('x')\n",
        "plt.ylabel('Density')\n",
        "plt.legend()\n",
        "plt.show()"
      ]
    },
    {
      "cell_type": "markdown",
      "id": "b90c8528",
      "metadata": {
        "id": "b90c8528"
      },
      "source": [
        "## Question 3\n",
        "\n",
        "Assume the data are i.i.d. **Exponential($\\lambda$)** with **unknown** rate $\\lambda$.\n",
        "\n",
        "**(c)** Compute $\\hat{\\lambda}$.  \n"
      ]
    },
    {
      "cell_type": "markdown",
      "id": "5eab5409",
      "metadata": {
        "id": "5eab5409"
      },
      "source": [
        "**(a)** Compute the MLE for $\\lambda$.  \n"
      ]
    },
    {
      "cell_type": "code",
      "execution_count": 9,
      "id": "b3a62ba4",
      "metadata": {
        "id": "b3a62ba4",
        "colab": {
          "base_uri": "https://localhost:8080/"
        },
        "outputId": "55a0ffe1-3f46-4823-f478-b28b9b7db1e8"
      },
      "outputs": [
        {
          "output_type": "stream",
          "name": "stdout",
          "text": [
            "0.4184100418410042\n"
          ]
        }
      ],
      "source": [
        "expon_lambda = 1/np.mean(x)\n",
        "print(expon_lambda)"
      ]
    },
    {
      "cell_type": "markdown",
      "id": "abe4dd4e",
      "metadata": {
        "id": "abe4dd4e"
      },
      "source": [
        "**(b)** Plot a histogram of the data with the **fitted Exponential** density overlaid."
      ]
    },
    {
      "cell_type": "code",
      "execution_count": 32,
      "id": "b401422e",
      "metadata": {
        "id": "b401422e",
        "colab": {
          "base_uri": "https://localhost:8080/",
          "height": 449
        },
        "outputId": "2d415cea-1ed9-4a7c-c81e-51e2e9770e5c"
      },
      "outputs": [
        {
          "output_type": "display_data",
          "data": {
            "text/plain": [
              "<Figure size 640x480 with 1 Axes>"
            ],
            "image/png": "[encoded data removed]"
          },
          "metadata": {}
        }
      ],
      "source": [
        "hist, bin_edges = np.histogram(x, bins=10, density=True)\n",
        "bin_centers = 0.5 * (bin_edges[1:] + bin_edges[:-1])\n",
        "x_grid = np.linspace(min(x)-1, max(x)+1, 100)\n",
        "pdf = expon.pdf(x_grid, scale=1/expon_lambda)\n",
        "plt.bar(bin_centers, hist, width=(bin_edges[1] - bin_edges[0]), alpha=0.5, label='Histogram')\n",
        "plt.plot(x_grid, pdf, 'r-', lw=2, label='Fitted Exponential')\n",
        "plt.xlabel('x')\n",
        "plt.ylabel('Density')\n",
        "plt.legend()\n",
        "plt.show()"
      ]
    },
    {
      "cell_type": "markdown",
      "id": "4299cea1",
      "metadata": {
        "id": "4299cea1"
      },
      "source": [
        "## Question 4 — Model Comparison (Visual + AIC)\n",
        "\n"
      ]
    },
    {
      "cell_type": "markdown",
      "id": "91767429",
      "metadata": {
        "id": "91767429"
      },
      "source": [
        "**(a)** Visually compare your overlaid fits from Q2 and Q3. Which model seems better?  "
      ]
    },
    {
      "cell_type": "markdown",
      "id": "ef1966e5",
      "metadata": {
        "id": "ef1966e5"
      },
      "source": []
    },
    {
      "cell_type": "markdown",
      "id": "a26954c1",
      "metadata": {
        "id": "a26954c1"
      },
      "source": [
        "**(b)** Compute **AIC** for both models using the log-likelihoods at the MLEs:\n",
        "$$\n",
        "\\mathrm{AIC} = -2\\,\\ell(\\hat{\\theta}) + 2k,\n",
        "$$\n",
        "where $k$ is the number of parameters (Normal: $k=2$ for $\\mu,\\sigma$; Exponential: $k=1$).  "
      ]
    },
    {
      "cell_type": "code",
      "execution_count": 7,
      "id": "dbef2262",
      "metadata": {
        "id": "dbef2262"
      },
      "outputs": [],
      "source": []
    },
    {
      "cell_type": "markdown",
      "id": "43659e37",
      "metadata": {
        "id": "43659e37"
      },
      "source": [
        "**(c)** Which model is preferred by AIC? Briefly justify."
      ]
    },
    {
      "cell_type": "markdown",
      "id": "1a047559",
      "metadata": {
        "id": "1a047559"
      },
      "source": []
    },
    {
      "cell_type": "markdown",
      "id": "e10fa384",
      "metadata": {
        "id": "e10fa384"
      },
      "source": [
        "## Question 5 — Regression under Different Losses\n",
        "\n",
        "Consider the regression dataset (note the last point is a potential outlier):\n",
        "\\[\n",
        "x_reg = (1,2,3,4,5,6,7,8),\\quad\n",
        "y_reg = (2.1, 3.9, 6.0, 8.2, 9.8, 12.1, 14.2, 30.0).\n",
        "\\]\n",
        "\n",
        "We fit $y = \\beta_0 + \\beta_1 x$ under three losses.\n",
        "\n"
      ]
    },
    {
      "cell_type": "markdown",
      "id": "0a7ae8a0",
      "metadata": {
        "id": "0a7ae8a0"
      },
      "source": [
        "**(a)** Compute $(\\hat\\beta_0, \\hat\\beta_1)$ assuming a squared error loss function.\n"
      ]
    },
    {
      "cell_type": "code",
      "execution_count": 7,
      "id": "4ea5bf1e",
      "metadata": {
        "id": "4ea5bf1e"
      },
      "outputs": [],
      "source": []
    },
    {
      "cell_type": "markdown",
      "id": "c335f9a3",
      "metadata": {
        "id": "c335f9a3"
      },
      "source": [
        "**(b)** Compute $(\\hat\\beta_0, \\hat\\beta_1)$ assuming an absolute loss function.\n"
      ]
    },
    {
      "cell_type": "code",
      "execution_count": 7,
      "id": "da1b41bc",
      "metadata": {
        "id": "da1b41bc"
      },
      "outputs": [],
      "source": []
    },
    {
      "cell_type": "markdown",
      "id": "efb17812",
      "metadata": {
        "id": "efb17812"
      },
      "source": [
        "**(c)** Compute $(\\hat\\beta_0, \\hat\\beta_1)$ assuming a loss function that is equal to the largest difference $y - \\hat{y}$\n"
      ]
    },
    {
      "cell_type": "code",
      "execution_count": 7,
      "id": "48d1b434",
      "metadata": {
        "id": "48d1b434"
      },
      "outputs": [],
      "source": []
    },
    {
      "cell_type": "markdown",
      "id": "a0c98989",
      "metadata": {
        "id": "a0c98989"
      },
      "source": [
        "**(d)** Plot the data with **all three** fitted lines on the same axes.  \n"
      ]
    },
    {
      "cell_type": "code",
      "execution_count": 7,
      "id": "932f8726",
      "metadata": {
        "id": "932f8726"
      },
      "outputs": [],
      "source": []
    }
  ],
  "metadata": {
    "colab": {
      "provenance": []
    },
    "language_info": {
      "name": "python"
    },
    "kernelspec": {
      "name": "python3",
      "display_name": "Python 3"
    }
  },
  "nbformat": 4,
  "nbformat_minor": 5
}