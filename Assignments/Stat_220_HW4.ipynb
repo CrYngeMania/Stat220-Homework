{
  "cells": [
    {
      "cell_type": "markdown",
      "id": "77054585",
      "metadata": {
        "id": "77054585"
      },
      "source": [
        "[![Open in Colab](https://colab.research.google.com/assets/colab-badge.svg)](https://colab.research.google.com/github/drbob-richardson/stat220/blob/main/Assignments/Stat_220_HW4.ipynb)"
      ]
    },
    {
      "cell_type": "markdown",
      "id": "f8b4fe84",
      "metadata": {
        "id": "f8b4fe84"
      },
      "source": [
        "# Stat 220 — Homework 4:\n",
        "\n",
        "**Instructions**\n",
        "- Answer all questions. Show all work for full credit.\n",
        "- Use Python (NumPy/Matplotlib/SciPy) to compute values and make plots.\n",
        "- When a plot is requested, label axes and include a legend.\n",
        "- You may add cells as needed."
      ]
    },
    {
      "cell_type": "code",
      "execution_count": 28,
      "id": "573495b5",
      "metadata": {
        "id": "573495b5"
      },
      "outputs": [],
      "source": [
        "\n",
        "# Feel free to add any imports you want here.\n",
        "import math\n",
        "import numpy as np\n",
        "import matplotlib.pyplot as plt\n",
        "from scipy.stats import norm, expon, binom\n",
        "from scipy.optimize import minimize"
      ]
    },
    {
      "cell_type": "markdown",
      "id": "5bdee43f",
      "metadata": {
        "id": "5bdee43f"
      },
      "source": [
        "## Data (used in Q1–Q4)\n",
        "We use this small dataset throughout Questions 1–4:"
      ]
    },
    {
      "cell_type": "code",
      "execution_count": 29,
      "id": "c970bc83",
      "metadata": {
        "id": "c970bc83",
        "colab": {
          "base_uri": "https://localhost:8080/"
        },
        "outputId": "ee08bbe5-d386-4b8d-e1d7-19d75a7e104f"
      },
      "outputs": [
        {
          "output_type": "execute_result",
          "data": {
            "text/plain": [
              "array([1.1, 3.4, 5.7, 1.9, 2.3, 4.1, 0.9, 1.6, 2.4, 0.5])"
            ]
          },
          "metadata": {},
          "execution_count": 29
        }
      ],
      "source": [
        "\n",
        "x = np.array([1.1, 3.4, 5.7, 1.9, 2.3, 4.1, 0.9, 1.6, 2.4, 0.5], dtype=float)\n",
        "n = len(x)\n",
        "x\n"
      ]
    },
    {
      "cell_type": "markdown",
      "id": "1f678832",
      "metadata": {
        "id": "1f678832"
      },
      "source": [
        "## Question 1 — Likelihood Function Practice\n",
        "\n",
        "You are given the dataset:\n",
        "\\[\n",
        "x = (1.1, 3.4, 5.7, 1.9, 2.3, 4.1, 0.9, 1.6, 2.4, 0.5).\n",
        "\\]\n",
        "\n"
      ]
    },
    {
      "cell_type": "markdown",
      "id": "eb238489",
      "metadata": {
        "id": "eb238489"
      },
      "source": [
        "**(a)** Derive the **likelihood function**  if the data are assumed to come from an **Exponential($\\lambda$)** distribution **with fixed $\\lambda = 0.5$**. Then **evaluate** the likelihood at the given data."
      ]
    },
    {
      "cell_type": "code",
      "execution_count": 30,
      "id": "77733a1a",
      "metadata": {
        "id": "77733a1a",
        "colab": {
          "base_uri": "https://localhost:8080/"
        },
        "outputId": "69aef38d-7b33-4a6e-bdce-b7ef12eaf700"
      },
      "outputs": [
        {
          "output_type": "stream",
          "name": "stdout",
          "text": [
            "PDF Values: [0.28847491 0.09134176 0.02892216 0.19337051 0.15831838 0.06436745\n",
            " 0.31881408 0.22466448 0.15059711 0.38940039]\n",
            "Likelihood: 6.307844586963339e-09\n",
            "Log Likelihood: -18.881471805599453\n"
          ]
        }
      ],
      "source": [
        "rate = .5\n",
        "scale = 1/rate\n",
        "x = np.array([1.1, 3.4, 5.7, 1.9, 2.3, 4.1, 0.9, 1.6, 2.4, 0.5])\n",
        "\n",
        "likelihood_values = expon.pdf(x, scale = scale)\n",
        "\n",
        "\n",
        "log_likelihood_exp = np.sum(np.log(likelihood_values))\n",
        "\n",
        "\n",
        "likelihood = np.prod(likelihood_values)\n",
        "\n",
        "\n",
        "print(f\"PDF Values: {likelihood_values}\")\n",
        "print(f\"Likelihood: {likelihood}\")\n",
        "print(f\"Log Likelihood: {log_likelihood_exp}\")"
      ]
    },
    {
      "cell_type": "markdown",
      "id": "37ed941c",
      "metadata": {
        "id": "37ed941c"
      },
      "source": [
        "**(b)** Derive the likelihood function if the data are assumed to come from a **Normal($\\mu,\\sigma^2$)** distribution **with fixed $\\mu = 2$, $\\sigma = 1$**. Then **evaluate** that likelihood at the data."
      ]
    },
    {
      "cell_type": "code",
      "execution_count": 31,
      "id": "d1798794",
      "metadata": {
        "id": "d1798794",
        "colab": {
          "base_uri": "https://localhost:8080/"
        },
        "outputId": "9415c72e-ebf5-410c-c748-86af163dd23b"
      },
      "outputs": [
        {
          "output_type": "stream",
          "name": "stdout",
          "text": [
            "PDF Values: [0.26608525 0.14972747 0.00042478 0.39695255 0.38138782 0.0439836\n",
            " 0.21785218 0.36827014 0.36827014 0.1295176 ]\n",
            "Likelihood: 4.3122749603719275e-10\n",
            "Log Likelihood: -21.564385332046726\n"
          ]
        }
      ],
      "source": [
        "mu = 2\n",
        "sigma = 1\n",
        "likelihood_values = norm.pdf(x, mu, sigma)\n",
        "\n",
        "\n",
        "log_likelihood_norm = np.sum(np.log(likelihood_values))\n",
        "\n",
        "\n",
        "likelihood = np.prod(likelihood_values)\n",
        "\n",
        "print(f\"PDF Values: {likelihood_values}\")\n",
        "print(f\"Likelihood: {likelihood}\")\n",
        "print(f\"Log Likelihood: {log_likelihood_norm}\")"
      ]
    },
    {
      "cell_type": "markdown",
      "id": "276e7f05",
      "metadata": {
        "id": "276e7f05"
      },
      "source": [
        "## Question 2\n",
        "\n",
        "Assume the data are i.i.d. **Normal($\\mu,\\sigma^2$)** with both $\\mu$ and $\\sigma^2$ **unknown**.\n",
        "\n"
      ]
    },
    {
      "cell_type": "markdown",
      "id": "7ff83d10",
      "metadata": {
        "id": "7ff83d10"
      },
      "source": [
        "**(a)** Compute these MLEs for $\\mu$ and $\\sigma$ for the dataset.  \n"
      ]
    },
    {
      "cell_type": "code",
      "execution_count": 46,
      "id": "e1b6ec1b",
      "metadata": {
        "id": "e1b6ec1b",
        "colab": {
          "base_uri": "https://localhost:8080/"
        },
        "outputId": "8aaccc16-5a00-479f-9893-2973d8c5fbfb"
      },
      "outputs": [
        {
          "output_type": "stream",
          "name": "stdout",
          "text": [
            "4.5\n",
            "2.29128784747792\n"
          ]
        }
      ],
      "source": [
        "mu = np.mean(x)\n",
        "print(mu)\n",
        "\n",
        "sigma = np.std(x, ddof=0)\n",
        "print(sigma)"
      ]
    },
    {
      "cell_type": "markdown",
      "id": "fb24a041",
      "metadata": {
        "id": "fb24a041"
      },
      "source": [
        "**(b)** Plot a **histogram** of the data with the **fitted Normal density** overlaid."
      ]
    },
    {
      "cell_type": "code",
      "execution_count": 47,
      "id": "ae6d69a8",
      "metadata": {
        "id": "ae6d69a8",
        "colab": {
          "base_uri": "https://localhost:8080/",
          "height": 449
        },
        "outputId": "0dd18ed1-abd1-4ed6-d8e9-71f50a10942f"
      },
      "outputs": [
        {
          "output_type": "display_data",
          "data": {
            "text/plain": [
              "<Figure size 640x480 with 1 Axes>"
            ],
            "image/png": "[encoded data removed]"
          },
          "metadata": {}
        }
      ],
      "source": [
        "hist, bin_edges = np.histogram(x, bins=10, density=True)\n",
        "bin_centers = 0.5 * (bin_edges[1:] + bin_edges[:-1])\n",
        "x_grid = np.linspace(min(x)-1, max(x)+1, 100)\n",
        "pdf = norm.pdf(x_grid, loc=mu, scale=sigma)\n",
        "plt.bar(bin_centers, hist, width=(bin_edges[1] - bin_edges[0]), alpha=0.5, label='Histogram', align='center')\n",
        "plt.plot(x_grid, pdf, 'r-', lw=2, label='Fitted Normal')\n",
        "plt.xlabel('x')\n",
        "plt.ylabel('Density')\n",
        "plt.legend()\n",
        "plt.show()"
      ]
    },
    {
      "cell_type": "markdown",
      "id": "b90c8528",
      "metadata": {
        "id": "b90c8528"
      },
      "source": [
        "## Question 3\n",
        "\n",
        "Assume the data are i.i.d. **Exponential($\\lambda$)** with **unknown** rate $\\lambda$.\n",
        "\n",
        "**(c)** Compute $\\hat{\\lambda}$.  \n"
      ]
    },
    {
      "cell_type": "code",
      "source": [
        "expon_lambda = 1/np.mean(x)\n",
        "print(expon_lambda)"
      ],
      "metadata": {
        "id": "DVX2nv0EM5s4"
      },
      "id": "DVX2nv0EM5s4",
      "execution_count": null,
      "outputs": []
    },
    {
      "cell_type": "markdown",
      "id": "5eab5409",
      "metadata": {
        "id": "5eab5409"
      },
      "source": [
        "**(a)** Compute the MLE for $\\lambda$.  \n"
      ]
    },
    {
      "cell_type": "code",
      "execution_count": 34,
      "id": "b3a62ba4",
      "metadata": {
        "id": "b3a62ba4",
        "colab": {
          "base_uri": "https://localhost:8080/"
        },
        "outputId": "5eaaa33d-b4a7-423c-945d-4728a393ffa9"
      },
      "outputs": [
        {
          "output_type": "stream",
          "name": "stdout",
          "text": [
            "0.4184100418410042\n"
          ]
        }
      ],
      "source": [
        "expon_lambda = 1/np.mean(x)\n",
        "print(expon_lambda)"
      ]
    },
    {
      "cell_type": "markdown",
      "id": "abe4dd4e",
      "metadata": {
        "id": "abe4dd4e"
      },
      "source": [
        "**(b)** Plot a histogram of the data with the **fitted Exponential** density overlaid."
      ]
    },
    {
      "cell_type": "code",
      "execution_count": 35,
      "id": "b401422e",
      "metadata": {
        "id": "b401422e",
        "colab": {
          "base_uri": "https://localhost:8080/",
          "height": 449
        },
        "outputId": "5d79efc8-e4e9-4c9f-a743-676302417377"
      },
      "outputs": [
        {
          "output_type": "display_data",
          "data": {
            "text/plain": [
              "<Figure size 640x480 with 1 Axes>"
            ],
            "image/png": "[encoded data removed]"
          },
          "metadata": {}
        }
      ],
      "source": [
        "hist, bin_edges = np.histogram(x, bins=10, density=True)\n",
        "bin_centers = 0.5 * (bin_edges[1:] + bin_edges[:-1])\n",
        "x_grid = np.linspace(min(x)-1, max(x)+1, 100)\n",
        "pdf = expon.pdf(x_grid, scale=1/expon_lambda)\n",
        "plt.bar(bin_centers, hist, width=(bin_edges[1] - bin_edges[0]), alpha=0.5, label='Histogram')\n",
        "plt.plot(x_grid, pdf, 'r-', lw=2, label='Fitted Exponential')\n",
        "plt.xlabel('x')\n",
        "plt.ylabel('Density')\n",
        "plt.legend()\n",
        "plt.show()"
      ]
    },
    {
      "cell_type": "markdown",
      "id": "4299cea1",
      "metadata": {
        "id": "4299cea1"
      },
      "source": [
        "## Question 4 — Model Comparison (Visual + AIC)\n",
        "\n"
      ]
    },
    {
      "cell_type": "markdown",
      "id": "91767429",
      "metadata": {
        "id": "91767429"
      },
      "source": [
        "**(a)** Visually compare your overlaid fits from Q2 and Q3. Which model seems better?  "
      ]
    },
    {
      "cell_type": "markdown",
      "id": "ef1966e5",
      "metadata": {
        "id": "ef1966e5"
      },
      "source": [
        "Based off of the histograms for both problems, I would say that the normal model fits better than the exponential."
      ]
    },
    {
      "cell_type": "markdown",
      "id": "a26954c1",
      "metadata": {
        "id": "a26954c1"
      },
      "source": [
        "**(b)** Compute **AIC** for both models using the log-likelihoods at the MLEs:\n",
        "$$\n",
        "\\mathrm{AIC} = -2\\,\\ell(\\hat{\\theta}) + 2k,\n",
        "$$\n",
        "where $k$ is the number of parameters (Normal: $k=2$ for $\\mu,\\sigma$; Exponential: $k=1$).  "
      ]
    },
    {
      "cell_type": "code",
      "execution_count": 36,
      "id": "dbef2262",
      "metadata": {
        "id": "dbef2262",
        "colab": {
          "base_uri": "https://localhost:8080/"
        },
        "outputId": "ee0edceb-8b61-4f85-c42e-f00cd3002fa9"
      },
      "outputs": [
        {
          "output_type": "stream",
          "name": "stdout",
          "text": [
            "47.12877066409345\n",
            "39.76294361119891\n"
          ]
        }
      ],
      "source": [
        "aic_norm = -2 * log_likelihood_norm + 2 * 2\n",
        "print(aic_norm)\n",
        "\n",
        "aic_exp = -2 * log_likelihood_exp + 2 * 1\n",
        "print(aic_exp)"
      ]
    },
    {
      "cell_type": "markdown",
      "id": "43659e37",
      "metadata": {
        "id": "43659e37"
      },
      "source": [
        "**(c)** Which model is preferred by AIC? Briefly justify."
      ]
    },
    {
      "cell_type": "markdown",
      "id": "1a047559",
      "metadata": {
        "id": "1a047559"
      },
      "source": [
        "Based off of AIC, the exponential model is preferred. With AIC, a lower score indicates a better model. It balances fit and complexity, helping prevent overfitting. So, with the exponential function having a lower AIC score, it is the preferred model."
      ]
    },
    {
      "cell_type": "markdown",
      "id": "e10fa384",
      "metadata": {
        "id": "e10fa384"
      },
      "source": [
        "## Question 5 — Regression under Different Losses\n",
        "\n",
        "Consider the regression dataset (note the last point is a potential outlier):\n",
        "\\[\n",
        "x_reg = (1,2,3,4,5,6,7,8),\\quad\n",
        "y_reg = (2.1, 3.9, 6.0, 8.2, 9.8, 12.1, 14.2, 30.0).\n",
        "\\]\n",
        "\n",
        "We fit $y = \\beta_0 + \\beta_1 x$ under three losses.\n",
        "\n"
      ]
    },
    {
      "cell_type": "markdown",
      "id": "0a7ae8a0",
      "metadata": {
        "id": "0a7ae8a0"
      },
      "source": [
        "**(a)** Compute $(\\hat\\beta_0, \\hat\\beta_1)$ assuming a squared error loss function.\n"
      ]
    },
    {
      "cell_type": "code",
      "source": [
        "def loss_sq(params):\n",
        "    b0, b1 = params\n",
        "    r = y - (b0 + b1*x)\n",
        "    return np.sum(r**2)\n",
        "res_Lsq = minimize(loss_sq, [0, 0])\n",
        "b0_sq, b1_sq = res_Lsq.x\n",
        "print(b0_sq)\n",
        "print(b1_sq)"
      ],
      "metadata": {
        "colab": {
          "base_uri": "https://localhost:8080/"
        },
        "id": "8QBEMq7FJFDI",
        "outputId": "d9c8e47d-1fc8-420b-b03b-4183a2cc1190"
      },
      "id": "8QBEMq7FJFDI",
      "execution_count": 38,
      "outputs": [
        {
          "output_type": "stream",
          "name": "stdout",
          "text": [
            "-3.4999999800084862\n",
            "3.174999989978283\n"
          ]
        }
      ]
    },
    {
      "cell_type": "markdown",
      "id": "c335f9a3",
      "metadata": {
        "id": "c335f9a3"
      },
      "source": [
        "**(b)** Compute $(\\hat\\beta_0, \\hat\\beta_1)$ assuming an absolute loss function.\n"
      ]
    },
    {
      "cell_type": "code",
      "execution_count": 39,
      "id": "da1b41bc",
      "metadata": {
        "id": "da1b41bc",
        "colab": {
          "base_uri": "https://localhost:8080/"
        },
        "outputId": "3335ca80-3849-4f4d-d2c5-abd752d939cb"
      },
      "outputs": [
        {
          "output_type": "stream",
          "name": "stdout",
          "text": [
            "-0.1499379283310926\n",
            "2.0499793082195286\n"
          ]
        }
      ],
      "source": [
        "def loss_abs(params):\n",
        "    b0, b1 = params\n",
        "    r = y - (b0 + b1*x)\n",
        "    return np.sum(np.abs(r))\n",
        "res_abs = minimize(loss_abs, [0, 0])\n",
        "res_abs.x\n",
        "b0_abs, b1_abs = res_abs.x\n",
        "print(b0_abs)\n",
        "print(b1_abs)"
      ]
    },
    {
      "cell_type": "markdown",
      "id": "efb17812",
      "metadata": {
        "id": "efb17812"
      },
      "source": [
        "**(c)** Compute $(\\hat\\beta_0, \\hat\\beta_1)$ assuming a loss function that is equal to the largest difference $y - \\hat{y}$\n"
      ]
    },
    {
      "cell_type": "code",
      "execution_count": 40,
      "id": "48d1b434",
      "metadata": {
        "id": "48d1b434",
        "colab": {
          "base_uri": "https://localhost:8080/"
        },
        "outputId": "27d0b8ee-35bf-48eb-9ca1-96df34e20131"
      },
      "outputs": [
        {
          "output_type": "stream",
          "name": "stdout",
          "text": [
            "0.3031837218287903\n",
            "2.9062421696215424\n"
          ]
        }
      ],
      "source": [
        "def loss_equals(params):\n",
        "    b0, b1 = params\n",
        "    r = y - (b0 + b1*x)\n",
        "    return np.max(np.abs(r))\n",
        "res_equals = minimize(loss_equals, [0, 0])\n",
        "res_equals.x\n",
        "b0_equals, b1_equals = res_equals.x\n",
        "print(b0_equals)\n",
        "print(b1_equals)"
      ]
    },
    {
      "cell_type": "markdown",
      "id": "a0c98989",
      "metadata": {
        "id": "a0c98989"
      },
      "source": [
        "**(d)** Plot the data with **all three** fitted lines on the same axes.  \n"
      ]
    },
    {
      "cell_type": "code",
      "execution_count": 41,
      "id": "932f8726",
      "metadata": {
        "id": "932f8726",
        "colab": {
          "base_uri": "https://localhost:8080/",
          "height": 524
        },
        "outputId": "356f3fa4-d1c6-4073-9125-372a11c53e67"
      },
      "outputs": [
        {
          "output_type": "stream",
          "name": "stdout",
          "text": [
            "Square fit: y = -3.500 + 3.175 x\n",
            "Absolute fit: y = -0.150 + 2.050 x\n",
            "Equals fit: y = 0.303 + 2.906 x\n"
          ]
        },
        {
          "output_type": "display_data",
          "data": {
            "text/plain": [
              "<Figure size 640x480 with 1 Axes>"
            ],
            "image/png": "[encoded data removed]"
          },
          "metadata": {}
        }
      ],
      "source": [
        "print(f\"Square fit: y = {b0_sq:.3f} + {b1_sq:.3f} x\")\n",
        "print(f\"Absolute fit: y = {b0_abs:.3f} + {b1_abs:.3f} x\")\n",
        "print(f\"Equals fit: y = {b0_equals:.3f} + {b1_equals:.3f} x\")\n",
        "\n",
        "plt.figure()\n",
        "plt.scatter(x, y, s=20, label=\"data\")\n",
        "xx = np.array([x.min(), x.max()])\n",
        "plt.plot(xx, b0_sq + b1_sq*xx, label=\"Square\")\n",
        "plt.plot(xx, b0_abs + b1_abs*xx, label=\"Absolute\")\n",
        "plt.plot(xx, b0_equals + b1_equals*xx, label=\"Equals\")\n",
        "plt.xlabel(\"x\"); plt.ylabel(\"y\"); plt.title(\"Regression fits via loss minimization\")\n",
        "plt.legend();\n",
        "plt.show()"
      ]
    }
  ],
  "metadata": {
    "colab": {
      "provenance": []
    },
    "language_info": {
      "name": "python"
    },
    "kernelspec": {
      "name": "python3",
      "display_name": "Python 3"
    }
  },
  "nbformat": 4,
  "nbformat_minor": 5
}