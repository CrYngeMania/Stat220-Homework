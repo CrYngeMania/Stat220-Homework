{
  "cells": [
    {
      "cell_type": "markdown",
      "metadata": {
        "id": "XIZB1sEtSdcQ"
      },
      "source": [
        "[![Open in Colab](https://colab.research.google.com/assets/colab-badge.svg)](https://colab.research.google.com/github/drbob-richardson/stat220/blob/main/Assignments/Stat_220_HW2.ipynb)"
      ]
    },
    {
      "cell_type": "code",
      "source": [
        "import numpy as np\n",
        "import matplotlib.pyplot as plt\n",
        "import pandas as pd\n",
        "from scipy.stats import binom, geom\n",
        "import scipy.stats as stats\n"
      ],
      "metadata": {
        "id": "9Ldl38TCV2ks"
      },
      "execution_count": 2,
      "outputs": []
    },
    {
      "cell_type": "markdown",
      "metadata": {
        "id": "p0Jeg70FvG6D"
      },
      "source": [
        "**Problem 1** A baseball player has a batting average of .240 against right handed pitchers and .375 against left handed pitchers. A batting average can be thought of as the probability they will get a hit."
      ]
    },
    {
      "cell_type": "markdown",
      "metadata": {
        "id": "mjW2p9LywoQ_"
      },
      "source": [
        "Part a. What is the probability the baseball player gets 3 out of 4 hits against a right handed pitcher?"
      ]
    },
    {
      "cell_type": "code",
      "execution_count": 6,
      "metadata": {
        "id": "8-JI8OPxwu4r",
        "colab": {
          "base_uri": "https://localhost:8080/"
        },
        "outputId": "934d18c4-879e-42f3-d657-899f549432e7"
      },
      "outputs": [
        {
          "output_type": "execute_result",
          "data": {
            "text/plain": [
              "0.04202496000000001"
            ]
          },
          "metadata": {},
          "execution_count": 6
        }
      ],
      "source": [
        "binomProbRight = stats.binom.pmf(3, 4, .240)\n",
        "float(binomProbRight)"
      ]
    },
    {
      "cell_type": "markdown",
      "metadata": {
        "id": "iuq4VdwYwvO9"
      },
      "source": [
        "Part b. What is the probability the baseball gets 3 out of 4 hits against a left handed pitcher."
      ]
    },
    {
      "cell_type": "code",
      "execution_count": 7,
      "metadata": {
        "id": "Us2ZnQSlw0x_",
        "colab": {
          "base_uri": "https://localhost:8080/"
        },
        "outputId": "b54890d6-f1c6-4b86-c94d-6f06197ebb52"
      },
      "outputs": [
        {
          "output_type": "execute_result",
          "data": {
            "text/plain": [
              "0.13183593750000003"
            ]
          },
          "metadata": {},
          "execution_count": 7
        }
      ],
      "source": [
        "binomProbLeft = stats.binom.pmf(3, 4, .375)\n",
        "float(binomProbLeft)"
      ]
    },
    {
      "cell_type": "markdown",
      "metadata": {
        "id": "QXJfKQHBxgR6"
      },
      "source": [
        "Part c. The baseball player gets 3 out of 4 hits against a randomly chosen pitcher. Based on these results, what would you assume about what hand the pitcher uses?"
      ]
    },
    {
      "cell_type": "markdown",
      "metadata": {
        "id": "VeEcIBCxxqPn"
      },
      "source": [
        "Based on the results of a batter getting 3/4 hits, I would assume that the pitcher is left handed. Based off of the statistics above, as well as the probabilities given initially, the player has a higher probability of hitting a left handed pitch."
      ]
    },
    {
      "cell_type": "markdown",
      "metadata": {
        "id": "SDGIExslxGCv"
      },
      "source": [
        "Part d. Assume that the pitcher is randomly chosen from the team where 80% of the pitchers are right handed. Use Bayes rule to determine the probability the pitcher is right handed given that the batter hits 3 out of 4 pitches."
      ]
    },
    {
      "cell_type": "code",
      "execution_count": 12,
      "metadata": {
        "id": "n76xVOIaxsoX",
        "colab": {
          "base_uri": "https://localhost:8080/"
        },
        "outputId": "d3c6dc1a-38b4-4d18-cdd5-8af9d43741a1"
      },
      "outputs": [
        {
          "output_type": "stream",
          "name": "stdout",
          "text": [
            "Probability of Left Handed = 0.43954722107135086\n",
            "Probability of Right Handed = 0.5604527789286491\n"
          ]
        }
      ],
      "source": [
        "probLeft = binomProbLeft * (.2)\n",
        "probRight = binomProbRight * (.8)\n",
        "\n",
        "postL = probLeft/(probLeft + probRight)\n",
        "postR = 1 - postL\n",
        "\n",
        "print(f\"Probability of Left Handed = {postL}\")\n",
        "print(f\"Probability of Right Handed = {postR}\")"
      ]
    },
    {
      "cell_type": "markdown",
      "source": [
        "Based on these probabilities, there is an approximate 56% that a pitcher is right-handed based off of hits and an 80% right-handed pitcher team."
      ],
      "metadata": {
        "id": "Qp2rzJOndG0Q"
      }
    },
    {
      "cell_type": "markdown",
      "metadata": {
        "id": "u6z8NiewxxoP"
      },
      "source": [
        "**Problem 2**  \n",
        "In Arizona, the long-run probability of rain on any given day of the year is about 5%. A researcher observes that it rained three days in a row and calculates the probability of this event as follows:\n",
        "\n",
        "$$\n",
        "Pr(\\text{3 days of rain}) = Pr(\\text{rain on a day})^3 = 0.05^3 = 0.000125\n",
        "$$\n",
        "\n",
        "He concludes that this was an extremely rare event.  \n",
        "\n",
        "You are asked to critique his calculation.  \n",
        "\n",
        "**Question:** What incorrect assumption about the *relationship between consecutive days of rain* did the researcher make in this calculation, and why does that make his probability estimate misleading?  \n",
        "\n"
      ]
    },
    {
      "cell_type": "markdown",
      "metadata": {
        "id": "JldplVYsUYyA"
      },
      "source": [
        "This researcher created his probability based off of the idea that each day's weather was completely independent from each other, which is not true in practice. If this were the case, then predicting weather would be based more on rough averages than current conditions and events."
      ]
    },
    {
      "cell_type": "markdown",
      "metadata": {
        "id": "xOmMCaJQzUAd"
      },
      "source": [
        "**Problem 3** A stock trader is examining stocks. Let event A be the event that Stock A falls. Let event B be the event that Stock B falls. Assume the following.\n",
        "\n",
        "*   Pr(A) = 0.4\n",
        "*   Pr(B) = 0.25\n",
        "*   Pr(A and B) = 0.15\n"
      ]
    },
    {
      "cell_type": "markdown",
      "metadata": {
        "id": "cXuzb3Kn2mIh"
      },
      "source": [
        "Part a. What is the probability that either events A or B happen?"
      ]
    },
    {
      "cell_type": "code",
      "execution_count": 13,
      "metadata": {
        "id": "gdTGwVnR2qaZ",
        "colab": {
          "base_uri": "https://localhost:8080/"
        },
        "outputId": "fd1cccc5-13f7-46ec-ce7a-cf080014d87b"
      },
      "outputs": [
        {
          "output_type": "execute_result",
          "data": {
            "text/plain": [
              "0.5"
            ]
          },
          "metadata": {},
          "execution_count": 13
        }
      ],
      "source": [
        "probAOrB = .4 + .25 - .15\n",
        "float(probAOrB)"
      ]
    },
    {
      "cell_type": "markdown",
      "metadata": {
        "id": "mmS34xQ82qyK"
      },
      "source": [
        "Part b. From this, can you make statement as to whether or not events A and B are mutually exclusive?"
      ]
    },
    {
      "cell_type": "markdown",
      "metadata": {
        "id": "UlTtEJvqSdcW"
      },
      "source": [
        "A and B cannot be mutually exclusive. Mutual exclusivity means that both cannot happen at the same time, resulting in a P(A and B) = 0. Because that is not the case here, A and B are not mutually exclusive."
      ]
    },
    {
      "cell_type": "markdown",
      "metadata": {
        "id": "zTU5YDQtSdcW"
      },
      "source": [
        "Part c. What can you say about if events A and B are independent?"
      ]
    },
    {
      "cell_type": "markdown",
      "metadata": {
        "id": "jBE-ZRoiSdcW"
      },
      "source": [
        "If A and B are independent, then we know that P(A and B) = P(A) * P(B). In our case, P(A) * P(B) = .1, not .15, like independence would imply. Thus, A and B are not independent."
      ]
    },
    {
      "cell_type": "markdown",
      "metadata": {
        "id": "Uhv41ow1swdd"
      },
      "source": [
        "**Problem 4** Each time a person shops at a grocery store, the event of catching a cold or some other virus from another shopper is independent from visit to visit and has a constant probability over the year, equal to 0.01."
      ]
    },
    {
      "cell_type": "markdown",
      "metadata": {
        "id": "3cN1ISlms2X-"
      },
      "source": [
        "Part a. In 100 trips to this store over the course of a year, the probability of catching a virus while shopping there is 100(0.01) = 1.0. What is wrong with this reasoning?"
      ]
    },
    {
      "cell_type": "markdown",
      "metadata": {
        "id": "5P6uZCAss74u"
      },
      "source": [
        "The problem with their reasoning is the fact that they don't have the correct probability for not getting sick. They're treating the events as mutually exclusive, rather than independent. If there is a 1% chance that one will get sick during a single trip, then the probability of catching a virus within 100 would be (.99)^100"
      ]
    },
    {
      "cell_type": "markdown",
      "metadata": {
        "id": "xkfLkFiys8lO"
      },
      "source": [
        "Part b. Find the correct probability in (a)."
      ]
    },
    {
      "cell_type": "code",
      "execution_count": 18,
      "metadata": {
        "id": "lCdV9U4ZWECf",
        "colab": {
          "base_uri": "https://localhost:8080/"
        },
        "outputId": "8c53912b-2a31-4221-ff4a-6b1f578c87ed"
      },
      "outputs": [
        {
          "output_type": "execute_result",
          "data": {
            "text/plain": [
              "0.6339676587267709"
            ]
          },
          "metadata": {},
          "execution_count": 18
        }
      ],
      "source": [
        "probShop = 1 - (.99 ** 100)\n",
        "probShop"
      ]
    },
    {
      "cell_type": "markdown",
      "metadata": {
        "id": "1nUUpZ8qSW3_"
      },
      "source": [
        "Part c. Determine the expected number of days someone would go to a grocery store before they catch a cold or some other virus."
      ]
    },
    {
      "cell_type": "code",
      "source": [
        "expectedDays = 1/.01\n",
        "expectedDays"
      ],
      "metadata": {
        "colab": {
          "base_uri": "https://localhost:8080/"
        },
        "id": "cYStm-tMpzDb",
        "outputId": "875c096f-b071-4e0d-9998-0da0df5c624b"
      },
      "execution_count": 20,
      "outputs": [
        {
          "output_type": "execute_result",
          "data": {
            "text/plain": [
              "100.0"
            ]
          },
          "metadata": {},
          "execution_count": 20
        }
      ]
    },
    {
      "cell_type": "markdown",
      "metadata": {
        "id": "4QE2cv4juKMj"
      },
      "source": [
        "**Problem 5** A quiz has twelve multiple-choice questions, with four possible answers for each. A student who is completely unprepared randomly guesses the answer for each question. Let Y denote the number of correct responses"
      ]
    },
    {
      "cell_type": "markdown",
      "metadata": {
        "id": "WY9xoJCzSdcY"
      },
      "source": [
        "Part a. What is the name of the distribution that can be used to determine the number of questionsd guessed correctly? What are the parameters of this distribution?"
      ]
    },
    {
      "cell_type": "markdown",
      "metadata": {
        "id": "WSXojtG4SdcY"
      },
      "source": [
        "This is the binomial distribution, which takes parameters n (number of independent trials) and p (probability)."
      ]
    },
    {
      "cell_type": "markdown",
      "metadata": {
        "id": "tWDxpF7yuZcR"
      },
      "source": [
        "Part b. Find the probability that the students gets (i) all 12, (ii) none of the questions correct."
      ]
    },
    {
      "cell_type": "code",
      "execution_count": 24,
      "metadata": {
        "id": "BIiWMzxRtpFm",
        "colab": {
          "base_uri": "https://localhost:8080/"
        },
        "outputId": "309a9859-f988-4501-9a4b-8d09a83664d1"
      },
      "outputs": [
        {
          "output_type": "stream",
          "name": "stdout",
          "text": [
            "Probability of none correct: 0.031676352024078355\n",
            "Probability of none correct: 5.960464477539063e-08\n"
          ]
        }
      ],
      "source": [
        "binomNone = stats.binom.pmf(0, 12, .25)\n",
        "print(f\"Probability of none correct: {binomNone}\")\n",
        "binomAll = stats.binom.pmf(12, 12, .25)\n",
        "print(f\"Probability of all correct: {binomAll}\")"
      ]
    },
    {
      "cell_type": "markdown",
      "metadata": {
        "id": "xVX11OSYSdcY"
      },
      "source": [
        "Part c. What is the expected value and variance of the number of questions guessed correctly?"
      ]
    },
    {
      "cell_type": "code",
      "execution_count": 27,
      "metadata": {
        "colab": {
          "base_uri": "https://localhost:8080/"
        },
        "id": "_aJnuvpjSdcZ",
        "outputId": "88c8a6b9-371e-4133-9d48-eac5563b5413"
      },
      "outputs": [
        {
          "output_type": "stream",
          "name": "stdout",
          "text": [
            "Expected Value: 3.0\n",
            "Variance: 2.25\n"
          ]
        }
      ],
      "source": [
        "dist = stats.binom(12, .25)\n",
        "expected = dist.mean()\n",
        "print(f\"Expected Value: {expected}\")\n",
        "variance = dist.var()\n",
        "print(f\"Variance: {variance}\")"
      ]
    }
  ],
  "metadata": {
    "colab": {
      "provenance": []
    },
    "kernelspec": {
      "display_name": "Python 3",
      "name": "python3"
    },
    "language_info": {
      "name": "python"
    }
  },
  "nbformat": 4,
  "nbformat_minor": 0
}