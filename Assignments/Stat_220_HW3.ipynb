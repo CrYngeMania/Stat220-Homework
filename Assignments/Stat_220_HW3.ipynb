{
  "cells": [
    {
      "cell_type": "markdown",
      "id": "cde00f3c",
      "metadata": {
        "id": "cde00f3c"
      },
      "source": [
        "[![Open in Colab](https://colab.research.google.com/assets/colab-badge.svg)](https://colab.research.google.com/github/drbob-richardson/stat220/blob/main/Assignments/Stat_220_HW3.ipynb)"
      ]
    },
    {
      "cell_type": "markdown",
      "id": "4ad50bf3",
      "metadata": {
        "id": "4ad50bf3"
      },
      "source": [
        "# Homework 3\n",
        "Stat 220"
      ]
    },
    {
      "cell_type": "code",
      "execution_count": 52,
      "id": "5327b315",
      "metadata": {
        "id": "5327b315"
      },
      "outputs": [],
      "source": [
        "\n",
        "import numpy as np\n",
        "import matplotlib.pyplot as plt\n",
        "from scipy.stats import norm, uniform, expon"
      ]
    },
    {
      "cell_type": "markdown",
      "id": "eb023830",
      "metadata": {
        "id": "eb023830"
      },
      "source": [
        "## Problem 1\n",
        "Let X be a normal random variable with mean 8 and standard deviation 4. Find the following probabilities:"
      ]
    },
    {
      "cell_type": "markdown",
      "id": "6e961dfd",
      "metadata": {
        "id": "6e961dfd"
      },
      "source": [
        "A. $Pr( X > 10)$"
      ]
    },
    {
      "cell_type": "code",
      "execution_count": 3,
      "id": "4c515347",
      "metadata": {
        "id": "4c515347",
        "outputId": "160aa58c-620a-4f20-e47d-93889bc8d964",
        "colab": {
          "base_uri": "https://localhost:8080/"
        }
      },
      "outputs": [
        {
          "output_type": "stream",
          "name": "stdout",
          "text": [
            "P(X > 10) = 0.3085375387259869\n"
          ]
        }
      ],
      "source": [
        "mu = 8\n",
        "sigma = 4\n",
        "p = norm.cdf(10, mu, sigma)\n",
        "print(f\"P(X > 10) = {1 - p}\")"
      ]
    },
    {
      "cell_type": "markdown",
      "id": "30b560b4",
      "metadata": {
        "id": "30b560b4"
      },
      "source": [
        "B. Pr(X > 10 and X < 12)"
      ]
    },
    {
      "cell_type": "code",
      "execution_count": 4,
      "id": "6b1eef09",
      "metadata": {
        "id": "6b1eef09",
        "outputId": "2b44faa5-2103-470c-a2b0-ed9bf7a49654",
        "colab": {
          "base_uri": "https://localhost:8080/"
        }
      },
      "outputs": [
        {
          "output_type": "stream",
          "name": "stdout",
          "text": [
            "P(10 < X < 12) = 0.1498822847945298\n"
          ]
        }
      ],
      "source": [
        "\n",
        "p = norm.cdf(12, mu, sigma) - norm.cdf(10, mu, sigma)\n",
        "print(f\"P(10 < X < 12) = {p}\")"
      ]
    },
    {
      "cell_type": "markdown",
      "id": "95c50255",
      "metadata": {
        "id": "95c50255"
      },
      "source": [
        "C. Pr(X > 10|X < 12)"
      ]
    },
    {
      "cell_type": "code",
      "execution_count": 53,
      "id": "8a616905",
      "metadata": {
        "id": "8a616905",
        "outputId": "9c3ca05f-6428-4e84-de5c-9edb04637f04",
        "colab": {
          "base_uri": "https://localhost:8080/"
        }
      },
      "outputs": [
        {
          "output_type": "stream",
          "name": "stdout",
          "text": [
            "P(10 < X < 12) = 1013594691.5862367\n"
          ]
        }
      ],
      "source": [
        "pDivider = norm.cdf(12, mu, sigma)\n",
        "p = (1 - norm.cdf(10, mu, sigma)) / pDivider\n",
        "print(f\"P(10 < X < 12) = {p}\")"
      ]
    },
    {
      "cell_type": "markdown",
      "id": "798178d6",
      "metadata": {
        "id": "798178d6"
      },
      "source": [
        "D. Pr(X > 10|X > 8)"
      ]
    },
    {
      "cell_type": "code",
      "execution_count": 55,
      "id": "d4d3f6ec",
      "metadata": {
        "id": "d4d3f6ec",
        "outputId": "6747079c-50ee-4193-dff9-700506d85397",
        "colab": {
          "base_uri": "https://localhost:8080/"
        }
      },
      "outputs": [
        {
          "output_type": "stream",
          "name": "stdout",
          "text": [
            "P(X > 10|X > 8) = 0.9999999998349336\n"
          ]
        }
      ],
      "source": [
        "p = (1 - norm.cdf(10, mu, sigma))\n",
        "pDivider = 1 - norm.cdf(8, mu, sigma)\n",
        "p = p / pDivider\n",
        "print(f\"P(X > 10|X > 8) = {p}\")"
      ]
    },
    {
      "cell_type": "markdown",
      "id": "b74e1b27",
      "metadata": {
        "id": "b74e1b27"
      },
      "source": [
        "E. Pr(X > 10 and X > 8)"
      ]
    },
    {
      "cell_type": "code",
      "execution_count": 56,
      "id": "2fa082a2",
      "metadata": {
        "id": "2fa082a2",
        "outputId": "6d9ee62c-9230-41cd-a0fd-97c1566f458c",
        "colab": {
          "base_uri": "https://localhost:8080/"
        }
      },
      "outputs": [
        {
          "output_type": "stream",
          "name": "stdout",
          "text": [
            "P(X > 10 and X > 8) = 0.9999999997947736\n"
          ]
        }
      ],
      "source": [
        "p = 1 - norm.cdf(10, mu, sigma)\n",
        "print(f\"P(X > 10 and X > 8) = {p}\")"
      ]
    },
    {
      "cell_type": "markdown",
      "id": "bfedf435",
      "metadata": {
        "id": "bfedf435"
      },
      "source": [
        "## Problem\n",
        "Airline departure delays (in minutes) are modeled by an exponential distribution with **mean 15 minutes**."
      ]
    },
    {
      "cell_type": "markdown",
      "id": "fe2bb9da",
      "metadata": {
        "id": "fe2bb9da"
      },
      "source": [
        "A. What is the rate parameter, $\\lambda$?"
      ]
    },
    {
      "cell_type": "markdown",
      "id": "eb80f673",
      "metadata": {
        "id": "eb80f673"
      },
      "source": [
        "The rate parameter λ is 1/μ, where μ is my mean. λ in exponential distributions represents the average number of events that occur during a specific time/withina specific space. For our case here, λ == 1/15."
      ]
    },
    {
      "cell_type": "markdown",
      "id": "f25087ad",
      "metadata": {
        "id": "f25087ad"
      },
      "source": [
        "B. What is the probability a flight is delayed less than 10 minutes?"
      ]
    },
    {
      "cell_type": "code",
      "execution_count": 9,
      "id": "8d52f062",
      "metadata": {
        "id": "8d52f062",
        "outputId": "264ee500-a4f8-4691-914f-99666b02bd41",
        "colab": {
          "base_uri": "https://localhost:8080/"
        }
      },
      "outputs": [
        {
          "output_type": "stream",
          "name": "stdout",
          "text": [
            "P(X < 10) = 0.486582880967408\n"
          ]
        }
      ],
      "source": [
        "lam = 1/15\n",
        "p = expon.cdf(10, scale=1/lam)\n",
        "print(f\"P(X < 10) = {p}\")"
      ]
    },
    {
      "cell_type": "markdown",
      "id": "0bf7f36b",
      "metadata": {
        "id": "0bf7f36b"
      },
      "source": [
        "C. What is the probability a flight is delayed more than 30 minutes?"
      ]
    },
    {
      "cell_type": "code",
      "execution_count": 10,
      "id": "411794d9",
      "metadata": {
        "id": "411794d9",
        "outputId": "656a3f9b-4fea-49ae-edf3-145001dff79d",
        "colab": {
          "base_uri": "https://localhost:8080/"
        }
      },
      "outputs": [
        {
          "output_type": "stream",
          "name": "stdout",
          "text": [
            "P(X > 30) = 0.1353352832366127\n"
          ]
        }
      ],
      "source": [
        "p = expon.cdf(30, scale=1/lam)\n",
        "print(f\"P(X > 30) = {1 - p}\")"
      ]
    },
    {
      "cell_type": "markdown",
      "id": "f727c8f6",
      "metadata": {
        "id": "f727c8f6"
      },
      "source": [
        "D. Find the 75th percentile delay time."
      ]
    },
    {
      "cell_type": "code",
      "execution_count": 11,
      "id": "f052eb8a",
      "metadata": {
        "id": "f052eb8a",
        "outputId": "65513a25-afac-4217-e926-e9d23cf69b9b",
        "colab": {
          "base_uri": "https://localhost:8080/"
        }
      },
      "outputs": [
        {
          "output_type": "stream",
          "name": "stdout",
          "text": [
            "75th percentile = 20.79441541679836\n"
          ]
        }
      ],
      "source": [
        "q75 = expon.ppf(0.75, scale=1/lam)\n",
        "print(f\"75th percentile = {q75}\")"
      ]
    },
    {
      "cell_type": "markdown",
      "id": "16be50b5",
      "metadata": {
        "id": "16be50b5"
      },
      "source": [
        "## Problem 3\n",
        "A computer simulation generates values uniformly between **100** and **200**.\n"
      ]
    },
    {
      "cell_type": "markdown",
      "id": "70046ef8",
      "metadata": {
        "id": "70046ef8"
      },
      "source": [
        "A. Compute the mean and variance."
      ]
    },
    {
      "cell_type": "code",
      "execution_count": 39,
      "id": "c48d70a7",
      "metadata": {
        "id": "c48d70a7",
        "outputId": "8859df54-7b89-48be-af83-fa11d42d39bb",
        "colab": {
          "base_uri": "https://localhost:8080/"
        }
      },
      "outputs": [
        {
          "output_type": "stream",
          "name": "stdout",
          "text": [
            "Mean = 150.0\n",
            "Variance = 833.3333333333334\n"
          ]
        }
      ],
      "source": [
        "a = 100\n",
        "b = 200\n",
        "mean = ((a + b) / 2)\n",
        "variance = ((b-a)**2 / 12)\n",
        "print(f\"Mean = {mean}\")\n",
        "print(f\"Variance = {variance}\")"
      ]
    },
    {
      "cell_type": "markdown",
      "id": "05a984cf",
      "metadata": {
        "id": "05a984cf"
      },
      "source": [
        "B. What is the probability the value falls between 120 and 150?"
      ]
    },
    {
      "cell_type": "code",
      "execution_count": 40,
      "id": "a4aebb2c",
      "metadata": {
        "id": "a4aebb2c",
        "outputId": "cb2cdedb-1968-46d4-b904-34c5de2509bc",
        "colab": {
          "base_uri": "https://localhost:8080/"
        }
      },
      "outputs": [
        {
          "output_type": "stream",
          "name": "stdout",
          "text": [
            "P(120 < X < 150) = 0.3\n"
          ]
        }
      ],
      "source": [
        "p = uniform.cdf(150, a, b-a) - uniform.cdf(120, a, b-a)\n",
        "print(f\"P(120 < X < 150) = {p}\")"
      ]
    },
    {
      "cell_type": "markdown",
      "id": "45741b2e",
      "metadata": {
        "id": "45741b2e"
      },
      "source": [
        "C. Find the 10th and 90th percentiles."
      ]
    },
    {
      "cell_type": "code",
      "execution_count": 41,
      "id": "9f962d7f",
      "metadata": {
        "id": "9f962d7f",
        "outputId": "0ccd68e4-3b8a-4625-ecee-5fac81c128ef",
        "colab": {
          "base_uri": "https://localhost:8080/"
        }
      },
      "outputs": [
        {
          "output_type": "stream",
          "name": "stdout",
          "text": [
            "10th percentile = 110.0\n",
            "90th percentile = 190.0\n"
          ]
        }
      ],
      "source": [
        "q10 = uniform.ppf(0.1, a, b-a)\n",
        "q90 = uniform.ppf(0.9, a, b-a)\n",
        "\n",
        "print(f\"10th percentile = {q10}\")\n",
        "print(f\"90th percentile = {q90}\")"
      ]
    },
    {
      "cell_type": "markdown",
      "id": "b0a10da6",
      "metadata": {
        "id": "b0a10da6"
      },
      "source": [
        "## Problem 4:\n",
        "Assume weights of a certain dog breed are $X\\sim \\mathcal{N}(60, 8)$ lbs.\n"
      ]
    },
    {
      "cell_type": "markdown",
      "id": "6c6e3c52",
      "metadata": {
        "id": "6c6e3c52"
      },
      "source": [
        "A. Using the **68–95–99.7** rule, approximate:\n",
        "   - $P(52 \\le X \\le 68)$,\n",
        "   - $P(44 \\le X \\le 76)$,\n",
        "   - $P(36 \\le X \\le 84)$."
      ]
    },
    {
      "cell_type": "code",
      "execution_count": 44,
      "id": "6237fd8e",
      "metadata": {
        "id": "6237fd8e",
        "outputId": "ef242ee7-8e14-4418-fe9c-e64260d95329",
        "colab": {
          "base_uri": "https://localhost:8080/"
        }
      },
      "outputs": [
        {
          "output_type": "stream",
          "name": "stdout",
          "text": [
            "P(52 <= X <= 68) = 0.68\n",
            "P(44 <= X <= 76) = 0.95\n",
            "P(36 <= X <= 84) = 0.997\n"
          ]
        }
      ],
      "source": [
        "p1 = .68\n",
        "p2 = .95\n",
        "p3 = .997\n",
        "mu = 60\n",
        "sigma = 8\n",
        "\n",
        "print(f\"P(52 <= X <= 68) = {p1}\")\n",
        "print(f\"P(44 <= X <= 76) = {p2}\")\n",
        "print(f\"P(36 <= X <= 84) = {p3}\")"
      ]
    },
    {
      "cell_type": "markdown",
      "id": "2ba40fcf",
      "metadata": {
        "id": "2ba40fcf"
      },
      "source": [
        "B. Compute the exact probabilities with the Normal CDF to compare.\n"
      ]
    },
    {
      "cell_type": "code",
      "execution_count": 45,
      "id": "d36f236c",
      "metadata": {
        "id": "d36f236c",
        "outputId": "66a29897-a9b5-41c2-9d96-287be21fd249",
        "colab": {
          "base_uri": "https://localhost:8080/"
        }
      },
      "outputs": [
        {
          "output_type": "stream",
          "name": "stdout",
          "text": [
            "P(52 <= X <= 68) = 0.6826894921370859\n",
            "P(44 <= X <= 76) = 0.9544997361036416\n",
            "P(36 <= X <= 84) = 0.9973002039367398\n"
          ]
        }
      ],
      "source": [
        "p1 = norm.cdf(68, 60, 8) - norm.cdf(52, 60, 8)\n",
        "p2 = norm.cdf(76, 60, 8) - norm.cdf(44, 60, 8)\n",
        "p3 = norm.cdf(84, 60, 8) - norm.cdf(36, 60, 8)\n",
        "print(f\"P(52 <= X <= 68) = {p1}\")\n",
        "print(f\"P(44 <= X <= 76) = {p2}\")\n",
        "print(f\"P(36 <= X <= 84) = {p3}\")"
      ]
    },
    {
      "cell_type": "markdown",
      "id": "52ee8e2f",
      "metadata": {
        "id": "52ee8e2f"
      },
      "source": [
        "C. Using the Normal table to find $P(X \\le 70)$."
      ]
    },
    {
      "cell_type": "markdown",
      "id": "0442a71e",
      "metadata": {
        "id": "0442a71e"
      },
      "source": [
        "Z Score = (70-60)/8 ((X - mu)/sigma) = 1.25\n",
        "\n",
        "1.25 on the table = .89435"
      ]
    },
    {
      "cell_type": "markdown",
      "id": "d46ae1c9",
      "metadata": {
        "id": "d46ae1c9"
      },
      "source": [
        "D. Use scipy functions to find $P(X \\le 70)$. How does it compare?"
      ]
    },
    {
      "cell_type": "code",
      "execution_count": 46,
      "id": "b6e6ed9c",
      "metadata": {
        "id": "b6e6ed9c",
        "outputId": "9a507646-f702-4dfe-aea6-62178ce7045f",
        "colab": {
          "base_uri": "https://localhost:8080/"
        }
      },
      "outputs": [
        {
          "output_type": "stream",
          "name": "stdout",
          "text": [
            "P(X <= 70) = 0.8943502263331446\n"
          ]
        }
      ],
      "source": [
        "z = (70 - mu) / sigma\n",
        "p = norm.cdf(z)\n",
        "print(f\"P(X <= 70) = {p}\")"
      ]
    },
    {
      "cell_type": "markdown",
      "id": "b87d02cf",
      "metadata": {
        "id": "b87d02cf"
      },
      "source": [
        "E. Find the weight that marks the **top 5\\%** of dogs (the 95th percentile).\n"
      ]
    },
    {
      "cell_type": "code",
      "execution_count": 47,
      "id": "3769b40f",
      "metadata": {
        "id": "3769b40f",
        "outputId": "2a605f50-0b40-4205-f9ca-16209215afdc",
        "colab": {
          "base_uri": "https://localhost:8080/"
        }
      },
      "outputs": [
        {
          "output_type": "stream",
          "name": "stdout",
          "text": [
            "95th percentile = 73.15882901561177\n"
          ]
        }
      ],
      "source": [
        "p = 0.95\n",
        "q = norm.ppf(p, mu, sigma)\n",
        "print(f\"95th percentile = {q}\")"
      ]
    },
    {
      "cell_type": "markdown",
      "id": "3d5adcae",
      "metadata": {
        "id": "3d5adcae"
      },
      "source": [
        "## Problem 5:\n",
        "Consider the following three random variables:\n",
        "\n",
        "- **A:** $X_A \\sim \\text{Unif}(120, 180)$\n",
        "- **B:** $X_B \\sim \\mathcal{N}(150, 20)$\n",
        "- **C:** $X_C \\sim \\text{Exp}(\\lambda=1/30)$ (units in minutes)\n"
      ]
    },
    {
      "cell_type": "markdown",
      "id": "674233e6",
      "metadata": {
        "id": "674233e6"
      },
      "source": [
        "A. Compute (or write down) the **mean** of each distribution and order the means from smallest to largest."
      ]
    },
    {
      "cell_type": "code",
      "execution_count": 49,
      "id": "8e248d42",
      "metadata": {
        "id": "8e248d42",
        "outputId": "d5050863-b481-45a0-8420-ad04fea4230f",
        "colab": {
          "base_uri": "https://localhost:8080/"
        }
      },
      "outputs": [
        {
          "output_type": "stream",
          "name": "stdout",
          "text": [
            "Mean of A = 150.0\n",
            "Mean of B = 150\n",
            "Mean of C = 30\n"
          ]
        }
      ],
      "source": [
        "meanA = (120 + 180) / 2\n",
        "meanB = 150\n",
        "meanC = 30\n",
        "\n",
        "print(f\"Mean of A = {meanA}\")\n",
        "print(f\"Mean of B = {meanB}\")\n",
        "print(f\"Mean of C = {meanC}\")"
      ]
    },
    {
      "cell_type": "markdown",
      "id": "48168ee7",
      "metadata": {
        "id": "48168ee7"
      },
      "source": [
        "From smallest to largest,\n",
        "\n",
        "*   C = 30\n",
        "*   B = 150\n",
        "*   A = 150.0\n",
        "\n",
        "(where A and B are interchangable)\n",
        "\n"
      ]
    },
    {
      "cell_type": "markdown",
      "id": "a7df3d77",
      "metadata": {
        "id": "a7df3d77"
      },
      "source": [
        "B. Compute the **variance** of each distribution and order the variances from smallest to largest.\n"
      ]
    },
    {
      "cell_type": "code",
      "execution_count": 51,
      "id": "9ba3146b",
      "metadata": {
        "id": "9ba3146b",
        "outputId": "cb49e006-ccd9-4dce-ee58-27b261b1b100",
        "colab": {
          "base_uri": "https://localhost:8080/"
        }
      },
      "outputs": [
        {
          "output_type": "stream",
          "name": "stdout",
          "text": [
            "Variance of A = 300.0\n",
            "Variance of B = 400\n",
            "Variance of C = 0.3333333333333333\n"
          ]
        }
      ],
      "source": [
        "varA = ((180 - 120)**2) / 12\n",
        "varB = 20**2\n",
        "varC = 1/3\n",
        "\n",
        "print(f\"Variance of A = {varA}\")\n",
        "print(f\"Variance of B = {varB}\")\n",
        "print(f\"Variance of C = {varC}\")"
      ]
    },
    {
      "cell_type": "markdown",
      "id": "57d26dc4",
      "metadata": {
        "id": "57d26dc4"
      },
      "source": [
        "From smallest to largest,\n",
        "\n",
        "*   C = 1/3\n",
        "*   A = 300.0\n",
        "*   B = 400\n",
        "\n"
      ]
    }
  ],
  "metadata": {
    "language_info": {
      "name": "python"
    },
    "colab": {
      "provenance": []
    },
    "kernelspec": {
      "name": "python3",
      "display_name": "Python 3"
    }
  },
  "nbformat": 4,
  "nbformat_minor": 5
}